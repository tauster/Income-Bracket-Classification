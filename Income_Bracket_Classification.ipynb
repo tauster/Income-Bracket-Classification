{
 "cells": [
  {
   "cell_type": "markdown",
   "metadata": {
    "collapsed": true
   },
   "source": [
    "# Assignment 2 - Classification Problem\n",
    "### <i>Tausif S</i>"
   ]
  },
  {
   "cell_type": "markdown",
   "metadata": {},
   "source": [
    "<br>\n",
    "## 0. Introduction\n",
    "The goal for this assignment is to train, validate, and tune multiple classifiers, in order to develop the best model to predict an individual's income bracket, based on a set of observations of the individual in question. The dataset used in this assignment is comprised of census data from the United States.\n",
    "\n",
    "##### _Importing packages used._\n",
    "For this assignment, the following packages are used:\n",
    "* Numpy\n",
    "* Matplotlib\n",
    "* Pandas\n",
    "* Scikit-learn"
   ]
  },
  {
   "cell_type": "code",
   "execution_count": 2,
   "metadata": {},
   "outputs": [],
   "source": [
    "# To stop printing warnings related to Matplotlib building its font cache.\n",
    "import warnings\n",
    "warnings.filterwarnings('ignore')\n",
    "\n",
    "import numpy as np\n",
    "import matplotlib.pyplot as plt\n",
    "import pandas as pd\n",
    "\n",
    "# To view plots inline with Jupyter Notebooks.\n",
    "%matplotlib inline\n",
    "plt.rcParams['figure.figsize'] = (12, 4)\n",
    "\n",
    "from sklearn.decomposition import PCA\n",
    "from sklearn.model_selection import cross_val_score\n",
    "from sklearn.ensemble import BaggingClassifier, GradientBoostingClassifier, RandomForestClassifier\n",
    "from sklearn.neural_network import MLPClassifier\n",
    "from sklearn.grid_search import GridSearchCV\n",
    "from sklearn import metrics"
   ]
  },
  {
   "cell_type": "markdown",
   "metadata": {},
   "source": [
    "<br>\n",
    "## 1. Data Cleaning\n",
    "##### _Importing and cleaning data._\n",
    "The first task is to prepare the datsets for analysis. There are two main datasets used, which are given in the `income-training.csv` and `income-testing.csv` files. Each individual is given 14 observation features, and a 1 of 3 classes representing their income bracket. The income bracket's are split into  the following classes: &lt;50K, 50-100K, and &gt;100K.\n",
    "\n",
    "In order to prepare the datasets, missing values within the datasets must be filled in, and the datasets need to become numerical."
   ]
  },
  {
   "cell_type": "markdown",
   "metadata": {},
   "source": [
    "### 1.1 Importing Data Sets\n",
    "First, the `income-training` and `income-testing` datasets are imported using the `read_csv` function from `pandas`."
   ]
  },
  {
   "cell_type": "code",
   "execution_count": 3,
   "metadata": {
    "collapsed": true
   },
   "outputs": [],
   "source": [
    "# Importing datasets.\n",
    "income_train = pd.read_csv('/resources/data/income-training.csv')\n",
    "income_test = pd.read_csv('/resources/data/income-testing.csv')"
   ]
  },
  {
   "cell_type": "code",
   "execution_count": 4,
   "metadata": {},
   "outputs": [
    {
     "data": {
      "text/html": [
       "<div>\n",
       "<table border=\"1\" class=\"dataframe\">\n",
       "  <thead>\n",
       "    <tr style=\"text-align: right;\">\n",
       "      <th></th>\n",
       "      <th>Age</th>\n",
       "      <th>WorkClass</th>\n",
       "      <th>FinalWeight</th>\n",
       "      <th>Education</th>\n",
       "      <th>EducationLvl</th>\n",
       "      <th>MaritalStatus</th>\n",
       "      <th>Occupation</th>\n",
       "      <th>Relationship</th>\n",
       "      <th>Race</th>\n",
       "      <th>Sex</th>\n",
       "      <th>CapitalGain</th>\n",
       "      <th>CapitalLoss</th>\n",
       "      <th>HoursPerWeek</th>\n",
       "      <th>NativeCountry</th>\n",
       "      <th>IncomeBracket</th>\n",
       "    </tr>\n",
       "  </thead>\n",
       "  <tbody>\n",
       "    <tr>\n",
       "      <th>0</th>\n",
       "      <td>42</td>\n",
       "      <td>State-gov</td>\n",
       "      <td>179151</td>\n",
       "      <td>Some-college</td>\n",
       "      <td>10</td>\n",
       "      <td>Married-civ-spouse</td>\n",
       "      <td>Farming-fishing</td>\n",
       "      <td>Husband</td>\n",
       "      <td>White</td>\n",
       "      <td>Male</td>\n",
       "      <td>0</td>\n",
       "      <td>0</td>\n",
       "      <td>40</td>\n",
       "      <td>United-States</td>\n",
       "      <td>&lt;50K</td>\n",
       "    </tr>\n",
       "    <tr>\n",
       "      <th>1</th>\n",
       "      <td>28</td>\n",
       "      <td>Private</td>\n",
       "      <td>68021</td>\n",
       "      <td>Some-college</td>\n",
       "      <td>10</td>\n",
       "      <td>Never-married</td>\n",
       "      <td>Other-service</td>\n",
       "      <td>Not-in-family</td>\n",
       "      <td>White</td>\n",
       "      <td>Female</td>\n",
       "      <td>0</td>\n",
       "      <td>0</td>\n",
       "      <td>30</td>\n",
       "      <td>United-States</td>\n",
       "      <td>&lt;50K</td>\n",
       "    </tr>\n",
       "    <tr>\n",
       "      <th>2</th>\n",
       "      <td>24</td>\n",
       "      <td>Private</td>\n",
       "      <td>233499</td>\n",
       "      <td>Some-college</td>\n",
       "      <td>10</td>\n",
       "      <td>Married-civ-spouse</td>\n",
       "      <td>Transport-moving</td>\n",
       "      <td>Husband</td>\n",
       "      <td>White</td>\n",
       "      <td>Male</td>\n",
       "      <td>0</td>\n",
       "      <td>0</td>\n",
       "      <td>40</td>\n",
       "      <td>United-States</td>\n",
       "      <td>50-100K</td>\n",
       "    </tr>\n",
       "    <tr>\n",
       "      <th>3</th>\n",
       "      <td>32</td>\n",
       "      <td>Self-emp-not-inc</td>\n",
       "      <td>168782</td>\n",
       "      <td>9th</td>\n",
       "      <td>5</td>\n",
       "      <td>Married-civ-spouse</td>\n",
       "      <td>Craft-repair</td>\n",
       "      <td>Husband</td>\n",
       "      <td>White</td>\n",
       "      <td>Male</td>\n",
       "      <td>0</td>\n",
       "      <td>0</td>\n",
       "      <td>32</td>\n",
       "      <td>United-States</td>\n",
       "      <td>&lt;50K</td>\n",
       "    </tr>\n",
       "    <tr>\n",
       "      <th>4</th>\n",
       "      <td>55</td>\n",
       "      <td>Self-emp-not-inc</td>\n",
       "      <td>105582</td>\n",
       "      <td>Masters</td>\n",
       "      <td>14</td>\n",
       "      <td>Married-civ-spouse</td>\n",
       "      <td>Sales</td>\n",
       "      <td>Husband</td>\n",
       "      <td>White</td>\n",
       "      <td>Male</td>\n",
       "      <td>2228</td>\n",
       "      <td>0</td>\n",
       "      <td>50</td>\n",
       "      <td>United-States</td>\n",
       "      <td>&lt;50K</td>\n",
       "    </tr>\n",
       "  </tbody>\n",
       "</table>\n",
       "</div>"
      ],
      "text/plain": [
       "   Age         WorkClass  FinalWeight     Education  EducationLvl  \\\n",
       "0   42         State-gov       179151  Some-college            10   \n",
       "1   28           Private        68021  Some-college            10   \n",
       "2   24           Private       233499  Some-college            10   \n",
       "3   32  Self-emp-not-inc       168782           9th             5   \n",
       "4   55  Self-emp-not-inc       105582       Masters            14   \n",
       "\n",
       "        MaritalStatus        Occupation   Relationship   Race     Sex  \\\n",
       "0  Married-civ-spouse   Farming-fishing        Husband  White    Male   \n",
       "1       Never-married     Other-service  Not-in-family  White  Female   \n",
       "2  Married-civ-spouse  Transport-moving        Husband  White    Male   \n",
       "3  Married-civ-spouse      Craft-repair        Husband  White    Male   \n",
       "4  Married-civ-spouse             Sales        Husband  White    Male   \n",
       "\n",
       "   CapitalGain  CapitalLoss  HoursPerWeek  NativeCountry IncomeBracket  \n",
       "0            0            0            40  United-States          <50K  \n",
       "1            0            0            30  United-States          <50K  \n",
       "2            0            0            40  United-States       50-100K  \n",
       "3            0            0            32  United-States          <50K  \n",
       "4         2228            0            50  United-States          <50K  "
      ]
     },
     "execution_count": 4,
     "metadata": {},
     "output_type": "execute_result"
    }
   ],
   "source": [
    "# Previewing the training dataset.\n",
    "income_train.head()"
   ]
  },
  {
   "cell_type": "code",
   "execution_count": 5,
   "metadata": {
    "scrolled": true
   },
   "outputs": [
    {
     "data": {
      "text/html": [
       "<div>\n",
       "<table border=\"1\" class=\"dataframe\">\n",
       "  <thead>\n",
       "    <tr style=\"text-align: right;\">\n",
       "      <th></th>\n",
       "      <th>Age</th>\n",
       "      <th>WorkClass</th>\n",
       "      <th>FinalWeight</th>\n",
       "      <th>Education</th>\n",
       "      <th>EducationLvl</th>\n",
       "      <th>MaritalStatus</th>\n",
       "      <th>Occupation</th>\n",
       "      <th>Relationship</th>\n",
       "      <th>Race</th>\n",
       "      <th>Sex</th>\n",
       "      <th>CapitalGain</th>\n",
       "      <th>CapitalLoss</th>\n",
       "      <th>HoursPerWeek</th>\n",
       "      <th>NativeCountry</th>\n",
       "      <th>IncomeBracket</th>\n",
       "    </tr>\n",
       "  </thead>\n",
       "  <tbody>\n",
       "    <tr>\n",
       "      <th>0</th>\n",
       "      <td>57</td>\n",
       "      <td>Self-emp-not-inc</td>\n",
       "      <td>152030</td>\n",
       "      <td>Some-college</td>\n",
       "      <td>10</td>\n",
       "      <td>Married-civ-spouse</td>\n",
       "      <td>Sales</td>\n",
       "      <td>Wife</td>\n",
       "      <td>White</td>\n",
       "      <td>Female</td>\n",
       "      <td>0</td>\n",
       "      <td>0</td>\n",
       "      <td>25</td>\n",
       "      <td>United-States</td>\n",
       "      <td>50-100K</td>\n",
       "    </tr>\n",
       "    <tr>\n",
       "      <th>1</th>\n",
       "      <td>35</td>\n",
       "      <td>Private</td>\n",
       "      <td>341643</td>\n",
       "      <td>Bachelors</td>\n",
       "      <td>13</td>\n",
       "      <td>Never-married</td>\n",
       "      <td>Other-service</td>\n",
       "      <td>Other-relative</td>\n",
       "      <td>White</td>\n",
       "      <td>Male</td>\n",
       "      <td>0</td>\n",
       "      <td>0</td>\n",
       "      <td>50</td>\n",
       "      <td>United-States</td>\n",
       "      <td>&lt;50K</td>\n",
       "    </tr>\n",
       "    <tr>\n",
       "      <th>2</th>\n",
       "      <td>26</td>\n",
       "      <td>Private</td>\n",
       "      <td>40915</td>\n",
       "      <td>Bachelors</td>\n",
       "      <td>13</td>\n",
       "      <td>Never-married</td>\n",
       "      <td>Other-service</td>\n",
       "      <td>Not-in-family</td>\n",
       "      <td>White</td>\n",
       "      <td>Female</td>\n",
       "      <td>0</td>\n",
       "      <td>0</td>\n",
       "      <td>25</td>\n",
       "      <td>United-States</td>\n",
       "      <td>&lt;50K</td>\n",
       "    </tr>\n",
       "    <tr>\n",
       "      <th>3</th>\n",
       "      <td>27</td>\n",
       "      <td>Federal-gov</td>\n",
       "      <td>257124</td>\n",
       "      <td>Bachelors</td>\n",
       "      <td>13</td>\n",
       "      <td>Never-married</td>\n",
       "      <td>Transport-moving</td>\n",
       "      <td>Other-relative</td>\n",
       "      <td>White</td>\n",
       "      <td>Male</td>\n",
       "      <td>0</td>\n",
       "      <td>0</td>\n",
       "      <td>35</td>\n",
       "      <td>United-States</td>\n",
       "      <td>&lt;50K</td>\n",
       "    </tr>\n",
       "    <tr>\n",
       "      <th>4</th>\n",
       "      <td>21</td>\n",
       "      <td>Private</td>\n",
       "      <td>256278</td>\n",
       "      <td>HS-grad</td>\n",
       "      <td>9</td>\n",
       "      <td>Never-married</td>\n",
       "      <td>Other-service</td>\n",
       "      <td>Other-relative</td>\n",
       "      <td>Other</td>\n",
       "      <td>Female</td>\n",
       "      <td>0</td>\n",
       "      <td>0</td>\n",
       "      <td>35</td>\n",
       "      <td>El-Salvador</td>\n",
       "      <td>&lt;50K</td>\n",
       "    </tr>\n",
       "  </tbody>\n",
       "</table>\n",
       "</div>"
      ],
      "text/plain": [
       "   Age         WorkClass  FinalWeight     Education  EducationLvl  \\\n",
       "0   57  Self-emp-not-inc       152030  Some-college            10   \n",
       "1   35           Private       341643     Bachelors            13   \n",
       "2   26           Private        40915     Bachelors            13   \n",
       "3   27       Federal-gov       257124     Bachelors            13   \n",
       "4   21           Private       256278       HS-grad             9   \n",
       "\n",
       "        MaritalStatus        Occupation    Relationship   Race     Sex  \\\n",
       "0  Married-civ-spouse             Sales            Wife  White  Female   \n",
       "1       Never-married     Other-service  Other-relative  White    Male   \n",
       "2       Never-married     Other-service   Not-in-family  White  Female   \n",
       "3       Never-married  Transport-moving  Other-relative  White    Male   \n",
       "4       Never-married     Other-service  Other-relative  Other  Female   \n",
       "\n",
       "   CapitalGain  CapitalLoss  HoursPerWeek  NativeCountry IncomeBracket  \n",
       "0            0            0            25  United-States       50-100K  \n",
       "1            0            0            50  United-States          <50K  \n",
       "2            0            0            25  United-States          <50K  \n",
       "3            0            0            35  United-States          <50K  \n",
       "4            0            0            35    El-Salvador          <50K  "
      ]
     },
     "execution_count": 5,
     "metadata": {},
     "output_type": "execute_result"
    }
   ],
   "source": [
    "# Previewing the testing dataset.\n",
    "income_test.head()"
   ]
  },
  {
   "cell_type": "markdown",
   "metadata": {},
   "source": [
    "### 1.2 Cleaning Datasets\n",
    "In order to clean the datasets, we define the `clean` function, which takes in the raw $M \\times 15$ `panda` dataframe, and returns a cleaned numerical dataframe.\n",
    "\n",
    "The `clean` function checks each feature column as to whether it's an object or not. If the feature is an object, it's perceived to be a categorical feature, and thus the column type is changed to a category. Next, it was decided that empty values for these categorical features would be filled in with the feature's mode. Finally, the categorical features are encoded to numerical values using the pandas `cat.codes` function, which assigns an integer value to each unique category alphanumerically. All non-object features are perceived to be continous, and thus the missing values are filled with the feature's mean."
   ]
  },
  {
   "cell_type": "code",
   "execution_count": 6,
   "metadata": {},
   "outputs": [],
   "source": [
    "# Function for cleaning and converting to a numerical dataframe.\n",
    "def clean(raw_df):\n",
    "    \"\"\"\n",
    "    Takes in the raw dataframe, and returns a cleaned numerical dataframe.\n",
    "    Fills empty continuous features with its mean and empty categorical\n",
    "    features with the feature's mode.\n",
    "    \n",
    "    Input:\n",
    "        raw_df   : Raw M x 15 panda dataframe.\n",
    "    \n",
    "    Output:\n",
    "        clean_df : Cleaned numerical M x 15 panda dataframe.\n",
    "    \"\"\"\n",
    "    \n",
    "    # Creating a copy of the original dataframe.\n",
    "    clean_df = raw_df.copy()\n",
    "    \n",
    "    # Running through each feature of the dataframe.\n",
    "    for i in range(0, clean_df.shape[1]):\n",
    "        # Checking to see if the feature is non-numerical, i.e. a categorical feature. \n",
    "        if(clean_df.iloc[:, i].dtypes == 'object'):\n",
    "            # Converting object dtype to category.\n",
    "            clean_df.iloc[:, i] = clean_df.iloc[:, i].astype('category')\n",
    "            # Filling empty values with the feature's mode. \n",
    "            clean_df.iloc[:, i] = clean_df.iloc[:, i].fillna(clean_df.iloc[:, i].mode()[0])\n",
    "            # Encoding to numerical values.\n",
    "            clean_df.iloc[:, i] = clean_df.iloc[:, i].cat.codes\n",
    "        else:\n",
    "            # Filling empty numerical feature values with its mean. \n",
    "            clean_df.iloc[:, i] = clean_df.iloc[:, i].fillna(round(income_train.iloc[:, i].mean()))\n",
    "    \n",
    "    return clean_df"
   ]
  },
  {
   "cell_type": "markdown",
   "metadata": {},
   "source": [
    "Here, we apply the `clean` function with the training and testing datasets. The datasets are also split into seperate features and class datasets for future use."
   ]
  },
  {
   "cell_type": "code",
   "execution_count": 7,
   "metadata": {
    "scrolled": true
   },
   "outputs": [],
   "source": [
    "# Cleaning the training and test sets.\n",
    "cleaned_train = clean(income_train)\n",
    "cleaned_test = clean(income_test)\n",
    "\n",
    "# Splitting data frame to x and y components.\n",
    "cleaned_train_x = cleaned_train[cleaned_train.columns[0:14]]\n",
    "cleaned_train_y = cleaned_train[cleaned_train.columns[14]]\n",
    "cleaned_test_x = cleaned_test[cleaned_test.columns[0:14]]\n",
    "cleaned_test_y = cleaned_test[cleaned_test.columns[14]]"
   ]
  },
  {
   "cell_type": "code",
   "execution_count": 8,
   "metadata": {},
   "outputs": [
    {
     "data": {
      "text/html": [
       "<div>\n",
       "<table border=\"1\" class=\"dataframe\">\n",
       "  <thead>\n",
       "    <tr style=\"text-align: right;\">\n",
       "      <th></th>\n",
       "      <th>Age</th>\n",
       "      <th>WorkClass</th>\n",
       "      <th>FinalWeight</th>\n",
       "      <th>Education</th>\n",
       "      <th>EducationLvl</th>\n",
       "      <th>MaritalStatus</th>\n",
       "      <th>Occupation</th>\n",
       "      <th>Relationship</th>\n",
       "      <th>Race</th>\n",
       "      <th>Sex</th>\n",
       "      <th>CapitalGain</th>\n",
       "      <th>CapitalLoss</th>\n",
       "      <th>HoursPerWeek</th>\n",
       "      <th>NativeCountry</th>\n",
       "      <th>IncomeBracket</th>\n",
       "    </tr>\n",
       "  </thead>\n",
       "  <tbody>\n",
       "    <tr>\n",
       "      <th>0</th>\n",
       "      <td>42</td>\n",
       "      <td>6</td>\n",
       "      <td>179151</td>\n",
       "      <td>15</td>\n",
       "      <td>10</td>\n",
       "      <td>2</td>\n",
       "      <td>4</td>\n",
       "      <td>0</td>\n",
       "      <td>4</td>\n",
       "      <td>1</td>\n",
       "      <td>0</td>\n",
       "      <td>0</td>\n",
       "      <td>40</td>\n",
       "      <td>38</td>\n",
       "      <td>1</td>\n",
       "    </tr>\n",
       "    <tr>\n",
       "      <th>1</th>\n",
       "      <td>28</td>\n",
       "      <td>3</td>\n",
       "      <td>68021</td>\n",
       "      <td>15</td>\n",
       "      <td>10</td>\n",
       "      <td>4</td>\n",
       "      <td>7</td>\n",
       "      <td>1</td>\n",
       "      <td>4</td>\n",
       "      <td>0</td>\n",
       "      <td>0</td>\n",
       "      <td>0</td>\n",
       "      <td>30</td>\n",
       "      <td>38</td>\n",
       "      <td>1</td>\n",
       "    </tr>\n",
       "    <tr>\n",
       "      <th>2</th>\n",
       "      <td>24</td>\n",
       "      <td>3</td>\n",
       "      <td>233499</td>\n",
       "      <td>15</td>\n",
       "      <td>10</td>\n",
       "      <td>2</td>\n",
       "      <td>13</td>\n",
       "      <td>0</td>\n",
       "      <td>4</td>\n",
       "      <td>1</td>\n",
       "      <td>0</td>\n",
       "      <td>0</td>\n",
       "      <td>40</td>\n",
       "      <td>38</td>\n",
       "      <td>0</td>\n",
       "    </tr>\n",
       "    <tr>\n",
       "      <th>3</th>\n",
       "      <td>32</td>\n",
       "      <td>5</td>\n",
       "      <td>168782</td>\n",
       "      <td>6</td>\n",
       "      <td>5</td>\n",
       "      <td>2</td>\n",
       "      <td>2</td>\n",
       "      <td>0</td>\n",
       "      <td>4</td>\n",
       "      <td>1</td>\n",
       "      <td>0</td>\n",
       "      <td>0</td>\n",
       "      <td>32</td>\n",
       "      <td>38</td>\n",
       "      <td>1</td>\n",
       "    </tr>\n",
       "    <tr>\n",
       "      <th>4</th>\n",
       "      <td>55</td>\n",
       "      <td>5</td>\n",
       "      <td>105582</td>\n",
       "      <td>12</td>\n",
       "      <td>14</td>\n",
       "      <td>2</td>\n",
       "      <td>11</td>\n",
       "      <td>0</td>\n",
       "      <td>4</td>\n",
       "      <td>1</td>\n",
       "      <td>2228</td>\n",
       "      <td>0</td>\n",
       "      <td>50</td>\n",
       "      <td>38</td>\n",
       "      <td>1</td>\n",
       "    </tr>\n",
       "  </tbody>\n",
       "</table>\n",
       "</div>"
      ],
      "text/plain": [
       "   Age  WorkClass  FinalWeight  Education  EducationLvl  MaritalStatus  \\\n",
       "0   42          6       179151         15            10              2   \n",
       "1   28          3        68021         15            10              4   \n",
       "2   24          3       233499         15            10              2   \n",
       "3   32          5       168782          6             5              2   \n",
       "4   55          5       105582         12            14              2   \n",
       "\n",
       "   Occupation  Relationship  Race  Sex  CapitalGain  CapitalLoss  \\\n",
       "0           4             0     4    1            0            0   \n",
       "1           7             1     4    0            0            0   \n",
       "2          13             0     4    1            0            0   \n",
       "3           2             0     4    1            0            0   \n",
       "4          11             0     4    1         2228            0   \n",
       "\n",
       "   HoursPerWeek  NativeCountry  IncomeBracket  \n",
       "0            40             38              1  \n",
       "1            30             38              1  \n",
       "2            40             38              0  \n",
       "3            32             38              1  \n",
       "4            50             38              1  "
      ]
     },
     "execution_count": 8,
     "metadata": {},
     "output_type": "execute_result"
    }
   ],
   "source": [
    "# Previewing cleaned training set.\n",
    "cleaned_train.head()"
   ]
  },
  {
   "cell_type": "code",
   "execution_count": 9,
   "metadata": {},
   "outputs": [
    {
     "data": {
      "text/html": [
       "<div>\n",
       "<table border=\"1\" class=\"dataframe\">\n",
       "  <thead>\n",
       "    <tr style=\"text-align: right;\">\n",
       "      <th></th>\n",
       "      <th>Age</th>\n",
       "      <th>WorkClass</th>\n",
       "      <th>FinalWeight</th>\n",
       "      <th>Education</th>\n",
       "      <th>EducationLvl</th>\n",
       "      <th>MaritalStatus</th>\n",
       "      <th>Occupation</th>\n",
       "      <th>Relationship</th>\n",
       "      <th>Race</th>\n",
       "      <th>Sex</th>\n",
       "      <th>CapitalGain</th>\n",
       "      <th>CapitalLoss</th>\n",
       "      <th>HoursPerWeek</th>\n",
       "      <th>NativeCountry</th>\n",
       "      <th>IncomeBracket</th>\n",
       "    </tr>\n",
       "  </thead>\n",
       "  <tbody>\n",
       "    <tr>\n",
       "      <th>0</th>\n",
       "      <td>57</td>\n",
       "      <td>5</td>\n",
       "      <td>152030</td>\n",
       "      <td>15</td>\n",
       "      <td>10</td>\n",
       "      <td>2</td>\n",
       "      <td>11</td>\n",
       "      <td>5</td>\n",
       "      <td>4</td>\n",
       "      <td>0</td>\n",
       "      <td>0</td>\n",
       "      <td>0</td>\n",
       "      <td>25</td>\n",
       "      <td>37</td>\n",
       "      <td>0</td>\n",
       "    </tr>\n",
       "    <tr>\n",
       "      <th>1</th>\n",
       "      <td>35</td>\n",
       "      <td>3</td>\n",
       "      <td>341643</td>\n",
       "      <td>9</td>\n",
       "      <td>13</td>\n",
       "      <td>4</td>\n",
       "      <td>7</td>\n",
       "      <td>2</td>\n",
       "      <td>4</td>\n",
       "      <td>1</td>\n",
       "      <td>0</td>\n",
       "      <td>0</td>\n",
       "      <td>50</td>\n",
       "      <td>37</td>\n",
       "      <td>1</td>\n",
       "    </tr>\n",
       "    <tr>\n",
       "      <th>2</th>\n",
       "      <td>26</td>\n",
       "      <td>3</td>\n",
       "      <td>40915</td>\n",
       "      <td>9</td>\n",
       "      <td>13</td>\n",
       "      <td>4</td>\n",
       "      <td>7</td>\n",
       "      <td>1</td>\n",
       "      <td>4</td>\n",
       "      <td>0</td>\n",
       "      <td>0</td>\n",
       "      <td>0</td>\n",
       "      <td>25</td>\n",
       "      <td>37</td>\n",
       "      <td>1</td>\n",
       "    </tr>\n",
       "    <tr>\n",
       "      <th>3</th>\n",
       "      <td>27</td>\n",
       "      <td>0</td>\n",
       "      <td>257124</td>\n",
       "      <td>9</td>\n",
       "      <td>13</td>\n",
       "      <td>4</td>\n",
       "      <td>13</td>\n",
       "      <td>2</td>\n",
       "      <td>4</td>\n",
       "      <td>1</td>\n",
       "      <td>0</td>\n",
       "      <td>0</td>\n",
       "      <td>35</td>\n",
       "      <td>37</td>\n",
       "      <td>1</td>\n",
       "    </tr>\n",
       "    <tr>\n",
       "      <th>4</th>\n",
       "      <td>21</td>\n",
       "      <td>3</td>\n",
       "      <td>256278</td>\n",
       "      <td>11</td>\n",
       "      <td>9</td>\n",
       "      <td>4</td>\n",
       "      <td>7</td>\n",
       "      <td>2</td>\n",
       "      <td>3</td>\n",
       "      <td>0</td>\n",
       "      <td>0</td>\n",
       "      <td>0</td>\n",
       "      <td>35</td>\n",
       "      <td>7</td>\n",
       "      <td>1</td>\n",
       "    </tr>\n",
       "  </tbody>\n",
       "</table>\n",
       "</div>"
      ],
      "text/plain": [
       "   Age  WorkClass  FinalWeight  Education  EducationLvl  MaritalStatus  \\\n",
       "0   57          5       152030         15            10              2   \n",
       "1   35          3       341643          9            13              4   \n",
       "2   26          3        40915          9            13              4   \n",
       "3   27          0       257124          9            13              4   \n",
       "4   21          3       256278         11             9              4   \n",
       "\n",
       "   Occupation  Relationship  Race  Sex  CapitalGain  CapitalLoss  \\\n",
       "0          11             5     4    0            0            0   \n",
       "1           7             2     4    1            0            0   \n",
       "2           7             1     4    0            0            0   \n",
       "3          13             2     4    1            0            0   \n",
       "4           7             2     3    0            0            0   \n",
       "\n",
       "   HoursPerWeek  NativeCountry  IncomeBracket  \n",
       "0            25             37              0  \n",
       "1            50             37              1  \n",
       "2            25             37              1  \n",
       "3            35             37              1  \n",
       "4            35              7              1  "
      ]
     },
     "execution_count": 9,
     "metadata": {},
     "output_type": "execute_result"
    }
   ],
   "source": [
    "# Previewing cleaned test set.\n",
    "cleaned_test.head()"
   ]
  },
  {
   "cell_type": "code",
   "execution_count": 10,
   "metadata": {},
   "outputs": [
    {
     "data": {
      "text/html": [
       "<div>\n",
       "<table border=\"1\" class=\"dataframe\">\n",
       "  <thead>\n",
       "    <tr style=\"text-align: right;\">\n",
       "      <th></th>\n",
       "      <th>Age</th>\n",
       "      <th>WorkClass</th>\n",
       "      <th>FinalWeight</th>\n",
       "      <th>Education</th>\n",
       "      <th>EducationLvl</th>\n",
       "      <th>MaritalStatus</th>\n",
       "      <th>Occupation</th>\n",
       "      <th>Relationship</th>\n",
       "      <th>Race</th>\n",
       "      <th>Sex</th>\n",
       "      <th>CapitalGain</th>\n",
       "      <th>CapitalLoss</th>\n",
       "      <th>HoursPerWeek</th>\n",
       "      <th>NativeCountry</th>\n",
       "    </tr>\n",
       "  </thead>\n",
       "  <tbody>\n",
       "    <tr>\n",
       "      <th>0</th>\n",
       "      <td>57</td>\n",
       "      <td>5</td>\n",
       "      <td>152030</td>\n",
       "      <td>15</td>\n",
       "      <td>10</td>\n",
       "      <td>2</td>\n",
       "      <td>11</td>\n",
       "      <td>5</td>\n",
       "      <td>4</td>\n",
       "      <td>0</td>\n",
       "      <td>0</td>\n",
       "      <td>0</td>\n",
       "      <td>25</td>\n",
       "      <td>37</td>\n",
       "    </tr>\n",
       "    <tr>\n",
       "      <th>1</th>\n",
       "      <td>35</td>\n",
       "      <td>3</td>\n",
       "      <td>341643</td>\n",
       "      <td>9</td>\n",
       "      <td>13</td>\n",
       "      <td>4</td>\n",
       "      <td>7</td>\n",
       "      <td>2</td>\n",
       "      <td>4</td>\n",
       "      <td>1</td>\n",
       "      <td>0</td>\n",
       "      <td>0</td>\n",
       "      <td>50</td>\n",
       "      <td>37</td>\n",
       "    </tr>\n",
       "    <tr>\n",
       "      <th>2</th>\n",
       "      <td>26</td>\n",
       "      <td>3</td>\n",
       "      <td>40915</td>\n",
       "      <td>9</td>\n",
       "      <td>13</td>\n",
       "      <td>4</td>\n",
       "      <td>7</td>\n",
       "      <td>1</td>\n",
       "      <td>4</td>\n",
       "      <td>0</td>\n",
       "      <td>0</td>\n",
       "      <td>0</td>\n",
       "      <td>25</td>\n",
       "      <td>37</td>\n",
       "    </tr>\n",
       "    <tr>\n",
       "      <th>3</th>\n",
       "      <td>27</td>\n",
       "      <td>0</td>\n",
       "      <td>257124</td>\n",
       "      <td>9</td>\n",
       "      <td>13</td>\n",
       "      <td>4</td>\n",
       "      <td>13</td>\n",
       "      <td>2</td>\n",
       "      <td>4</td>\n",
       "      <td>1</td>\n",
       "      <td>0</td>\n",
       "      <td>0</td>\n",
       "      <td>35</td>\n",
       "      <td>37</td>\n",
       "    </tr>\n",
       "    <tr>\n",
       "      <th>4</th>\n",
       "      <td>21</td>\n",
       "      <td>3</td>\n",
       "      <td>256278</td>\n",
       "      <td>11</td>\n",
       "      <td>9</td>\n",
       "      <td>4</td>\n",
       "      <td>7</td>\n",
       "      <td>2</td>\n",
       "      <td>3</td>\n",
       "      <td>0</td>\n",
       "      <td>0</td>\n",
       "      <td>0</td>\n",
       "      <td>35</td>\n",
       "      <td>7</td>\n",
       "    </tr>\n",
       "  </tbody>\n",
       "</table>\n",
       "</div>"
      ],
      "text/plain": [
       "   Age  WorkClass  FinalWeight  Education  EducationLvl  MaritalStatus  \\\n",
       "0   57          5       152030         15            10              2   \n",
       "1   35          3       341643          9            13              4   \n",
       "2   26          3        40915          9            13              4   \n",
       "3   27          0       257124          9            13              4   \n",
       "4   21          3       256278         11             9              4   \n",
       "\n",
       "   Occupation  Relationship  Race  Sex  CapitalGain  CapitalLoss  \\\n",
       "0          11             5     4    0            0            0   \n",
       "1           7             2     4    1            0            0   \n",
       "2           7             1     4    0            0            0   \n",
       "3          13             2     4    1            0            0   \n",
       "4           7             2     3    0            0            0   \n",
       "\n",
       "   HoursPerWeek  NativeCountry  \n",
       "0            25             37  \n",
       "1            50             37  \n",
       "2            25             37  \n",
       "3            35             37  \n",
       "4            35              7  "
      ]
     },
     "execution_count": 10,
     "metadata": {},
     "output_type": "execute_result"
    }
   ],
   "source": [
    "# Previewing the training features dataset.\n",
    "cleaned_test_x.head()"
   ]
  },
  {
   "cell_type": "markdown",
   "metadata": {},
   "source": [
    "<br>\n",
    "## 2. Exploratory Analysis\n",
    "##### _Understanding the data visually._\n",
    "Before performing any analyses, it's a good idea to visualize what's going on in the first place. Thus, general raw data trends, and feature importance will be analyzed in this section."
   ]
  },
  {
   "cell_type": "markdown",
   "metadata": {},
   "source": [
    "### 2.1 Data Trends\n",
    "Here, we're splitting up the original training set to be able to visualize the differences of income level depending on the following feature's categories: Education, WorkClass, and Sex. Each feature is given its own income bracket matrix, given by $M \\times N$, where $M$ is the number of income brackets, and $N$ is the number of categories in the features.\n",
    "\n",
    "The reason for choosing the features chosen for visual analyses, is based off a couple hypotheses revolving on common ideas in today's western society. These hypotheses include: higher education opens doors for higher income, private companies pay more than public offices, and an individual's gender affects their over all income.  "
   ]
  },
  {
   "cell_type": "code",
   "execution_count": 11,
   "metadata": {},
   "outputs": [],
   "source": [
    "# Setting up the titles for income brackets.\n",
    "inc_titles = np.asarray(income_train['IncomeBracket'].unique())\n",
    "\n",
    "# Setting up the titles and empty zero matrix for each feature's income brackets.\n",
    "edu_titles = np.asarray(income_train['Education'].unique())\n",
    "edu_incbrk = np.zeros((3, len(edu_titles)))\n",
    "\n",
    "wrk_titles = np.asarray(income_train['WorkClass'].unique())\n",
    "wrk_incbrk = np.zeros((3, len(wrk_titles)))\n",
    "\n",
    "sex_titles = np.asarray(income_train['Sex'].unique())\n",
    "sex_incbrk = np.zeros((3, len(sex_titles)))\n",
    "\n",
    "# Parsing the dataset into the relevant sections of the sorted matrix.\n",
    "for i in range(0, len(inc_titles)):\n",
    "    for j in range(0, len(edu_titles)):\n",
    "        edu_incbrk[i, j] = income_train[income_train.Education == edu_titles[j]].IncomeBracket[income_train.IncomeBracket == inc_titles[i]].size\n",
    "    for j in range(0, len(wrk_titles)):\n",
    "        wrk_incbrk[i, j] = income_train[income_train.WorkClass == wrk_titles[j]].IncomeBracket[income_train.IncomeBracket == inc_titles[i]].size\n",
    "    for j in range(0, len(sex_titles)):\n",
    "        sex_incbrk[i, j] = income_train[income_train.Sex == sex_titles[j]].IncomeBracket[income_train.IncomeBracket == inc_titles[i]].size"
   ]
  },
  {
   "cell_type": "markdown",
   "metadata": {},
   "source": [
    "With the data sorted for each feature in question, we can now graph it out to get a better understanding of what what's going on. Below is the `feature_plotter` function, which takes in the data prepared earlier and plots it accordingly."
   ]
  },
  {
   "cell_type": "code",
   "execution_count": 12,
   "metadata": {},
   "outputs": [],
   "source": [
    "def feature_plotter(feature_titles, incbrk, plot_title):\n",
    "    \"\"\"\n",
    "    Takes feature data and plots it onto a bar charts for distribution visualization.\n",
    "    \n",
    "    Input:\n",
    "        feature_titles : 1 x N numpy array of feature category titles.\n",
    "        incbrck        : 3 x N numpy array of income breakdown.\n",
    "        plot_title     : String value for plot title.\n",
    "    \"\"\"\n",
    "    \n",
    "    # Plotting the income bracket distribution for the given feature.\n",
    "    plt.subplot(1, 2, 1)\n",
    "    y_pos = np.arange(len(feature_titles))\n",
    "    \n",
    "    p1 = plt.bar(y_pos, incbrk[0, :], color = '#EA6D6A', align = 'center')\n",
    "    p2 = plt.bar(y_pos, incbrk[1, :], color = '#6495ED', align = 'center', bottom = incbrk[0, :])\n",
    "    p3 = plt.bar(y_pos, incbrk[2, :], color = '#52BE80', align = 'center', bottom = (incbrk[0, :] + incbrk[1, :]))\n",
    "    \n",
    "    plt.xticks(y_pos, feature_titles, fontsize = 10, rotation = 80)\n",
    "    plt.ylabel('Number of Individuals')\n",
    "    plt.legend((p1[0], p2[0], p3[0]), ('<50K', '50-100K', '>100K'), bbox_to_anchor=(0.5, 1.06), loc = 'center', ncol = 3)\n",
    "    \n",
    "    # Plotting the income bracket percentage breakdown for the given feature.\n",
    "    plt.subplot(1, 2, 2)\n",
    "    totals = incbrk.sum(axis = 0)\n",
    "    incbrk_per = np.asarray(incbrk)\n",
    "    for i in range(0, 3):\n",
    "        incbrk_per[i, :] = 100*(incbrk_per[i, :]/totals)\n",
    "    \n",
    "    p4 = plt.bar(y_pos, incbrk_per[0, :], color = '#EA6D6A', align = 'center')\n",
    "    p5 = plt.bar(y_pos, incbrk_per[1, :], color = '#6495ED', align = 'center', bottom = incbrk_per[0, :])\n",
    "    p6 = plt.bar(y_pos, incbrk_per[2, :], color = '#52BE80', align = 'center', bottom = (incbrk_per[0, :] + incbrk_per[1, :]))\n",
    "    \n",
    "    plt.xticks(y_pos, feature_titles, fontsize = 10, rotation = 80)\n",
    "    plt.ylabel('Percentage of Individuals (%)')\n",
    "    plt.legend((p4[0], p5[0], p6[0]), ('<50K', '50-100K', '>100K'), bbox_to_anchor=(0.5, 1.06), loc = 'center', ncol = 3)\n",
    "    \n",
    "    plt.suptitle(plot_title, fontsize = 14, fontweight = 'bold', y = 1.05)\n",
    "    plt.show()"
   ]
  },
  {
   "cell_type": "markdown",
   "metadata": {},
   "source": [
    "The figure below shows the income break down for the education feature in terms of raw individuals and category percentage, on the left and right respectively. It seems that the majority of individuals in the sample size for the training set are high school graduates, as seen on the left plot. It's also interesting to note that the 50-100K group is at its highest for individuals with a bachelors degree in terms of raw individuals. The amount of individuals pursuing further higher education beyond a bachelors degree diminishes extensively, however, the percentage of higher income brackets seems to increase thoroughly as seen on the right plot. This makes sense, as it's very common for a post secondary institution to have less graduate students than undergraduate, and still somewhat follows the hypothesis of higher education leading to higher income."
   ]
  },
  {
   "cell_type": "code",
   "execution_count": 13,
   "metadata": {
    "scrolled": false
   },
   "outputs": [
    {
     "data": {
      "image/png": "[encoded data removed]",
      "text/plain": [
       "<matplotlib.figure.Figure at 0x7fa7f68fffd0>"
      ]
     },
     "metadata": {},
     "output_type": "display_data"
    }
   ],
   "source": [
    "feature_plotter(np.copy(edu_titles), np.copy(edu_incbrk), 'Income Bracket Distribution for the Education Feature')"
   ]
  },
  {
   "cell_type": "markdown",
   "metadata": {},
   "source": [
    "The next figure below shows the income break down for the work class feature in terms of raw individuals and category percentage, on the left and right respectively. It's clear to see that the majority of people work for private companies since there are usually more private jobs avaialable compared to government related jobs, which tend to be more limited, while self employed careers can be thought of as _out-of-the-norm_ for the mass population. However, the greatest chance for attaining higher income seems to be through self-employment.\n",
    "\n",
    "Note that the figure below has a `nan` column. This is because we are using the original dataset to produce the plots in order to preserve categorical titles."
   ]
  },
  {
   "cell_type": "code",
   "execution_count": 14,
   "metadata": {
    "scrolled": true
   },
   "outputs": [
    {
     "data": {
      "image/png": "[encoded data removed]",
      "text/plain": [
       "<matplotlib.figure.Figure at 0x7fa7c6a2cdd8>"
      ]
     },
     "metadata": {},
     "output_type": "display_data"
    }
   ],
   "source": [
    "feature_plotter(np.copy(wrk_titles), np.copy(wrk_incbrk), 'Income Bracket Distribution for the Work Class Feature')"
   ]
  },
  {
   "cell_type": "markdown",
   "metadata": {},
   "source": [
    "The final figure below shows the income break down for the sex feature in terms of raw individuals and category percentage, on the left and right respectively. Right off the bat, it's clear to see that the sample size for the training set has more male individuals than female, as seen on the left plot. Looking at the percentage breakdown on the right, it seems that the income break down is disproportionate when comparing genders and higher income rates. However, it would be more useful to compare gender with additional features, such as type of education or occupation, since statistically speaking, post secondary institutions tend to have disproportionate gender ratios in high paying fields such as the STEM majors. "
   ]
  },
  {
   "cell_type": "code",
   "execution_count": 15,
   "metadata": {},
   "outputs": [
    {
     "data": {
      "image/png": "[encoded data removed]",
      "text/plain": [
       "<matplotlib.figure.Figure at 0x7fa7bcfc0eb8>"
      ]
     },
     "metadata": {},
     "output_type": "display_data"
    }
   ],
   "source": [
    "feature_plotter(np.copy(sex_titles), np.copy(sex_incbrk), 'Income Bracket Distribution for the Sex Feature')"
   ]
  },
  {
   "cell_type": "markdown",
   "metadata": {},
   "source": [
    "### 2.2 Feature Importance\n",
    "Visualizing feature importance is also an important step in classifier development, since it can allow us to see how relevant certain features are to its class. The first method of visualizing feature importance is through the principal components analysis (PCA).\n",
    "\n",
    "PCA is essentially a dimmensional reduction tool that can help us visualize higher order $n$ dimmensional data through its covariances. PCA will take $n$ dimmensional data, and reduce it to a smaller dimmension by applying an orthogonal transformation, and finding the covariances of the different dimmensions in order to make a new, reduced set of values. These new values are both linear and uncorrelated. These new sets of values are called the principal components. It can be thought of as finding the major covariance axes directions, and projecting it onto a lower dimmensional space.\n",
    "\n",
    "Here, we're defining the `PCA_plotter` function which applys PCA on the dataset with 2 principal components, and plotting the results."
   ]
  },
  {
   "cell_type": "code",
   "execution_count": 16,
   "metadata": {},
   "outputs": [],
   "source": [
    "def PCA_plotter(set_x, set_y, plot_title):\n",
    "    \"\"\"\n",
    "    Takes dataset and plots its PCA plot in 2D.\n",
    "    \n",
    "    Input:\n",
    "        set_x      : M x (N-1) panda dataframe of features.\n",
    "        set_y      : M x 1 panda dataframe of classes.\n",
    "        plot_title : String value for plot title.\n",
    "    \"\"\"\n",
    "    \n",
    "    # Creating numpy arrays of the panda dataframe. \n",
    "    X_train = np.asarray(set_x)\n",
    "    y_train = np.asarray(set_y)\n",
    "    \n",
    "    # Initializing and fitting the PCA.\n",
    "    PCA_ = PCA(n_components = 2)\n",
    "    PCA_x = PCA_.fit(X_train).transform(X_train)\n",
    "\n",
    "    # Plotting PCA plot.\n",
    "    plt.subplot(1, 2, 1)\n",
    "    labels = [0, 1, 2]\n",
    "    label_names = ['50-100K', '<50K', '>100K']\n",
    "    col = ['#6495ED', '#EA6D6A', '#52BE80']\n",
    "\n",
    "    PCA_p1 = plt.scatter(PCA_x[y_train == 0, 0], PCA_x[y_train == 0, 1], label = label_names[0], color = col[0])\n",
    "    PCA_p2 = plt.scatter(PCA_x[y_train == 1, 0], PCA_x[y_train == 1, 1], label = label_names[1], color = col[1])\n",
    "    PCA_p3 = plt.scatter(PCA_x[y_train == 2, 0], PCA_x[y_train == 2, 1], label = label_names[2], color = col[2])\n",
    "    \n",
    "    plt.xticks(rotation = 80)\n",
    "    plt.xlabel('Principal Component 1')\n",
    "    plt.ylabel('Principal Component 2')\n",
    "    plt.legend((PCA_p2, PCA_p1, PCA_p3), ('<50K', '50-100K', '>100K'), bbox_to_anchor=(0.5, 1.06), loc = 'center', ncol = 3)\n",
    "    \n",
    "    # Finding smallest label set.\n",
    "    min_i = np.amin([len(PCA_x[y_train == 0, 0]), len(PCA_x[y_train == 1, 0]), len(PCA_x[y_train == 2, 0])])//5\n",
    "\n",
    "    # Plotting more balanced PCA plot\n",
    "    plt.subplot(1, 2, 2)\n",
    "    PCA_p4 = plt.scatter(PCA_x[y_train == 0, 0][0:min_i], PCA_x[y_train == 0, 1][0:min_i], label = label_names[0], color = col[0], marker = '*')\n",
    "    PCA_p5 = plt.scatter(PCA_x[y_train == 1, 0][0:min_i], PCA_x[y_train == 1, 1][0:min_i], label = label_names[1], color = col[1], marker = '*')\n",
    "    PCA_p6 = plt.scatter(PCA_x[y_train == 2, 0][0:min_i], PCA_x[y_train == 2, 1][0:min_i], label = label_names[2], color = col[2], marker = '*')\n",
    "    \n",
    "    plt.xticks(rotation = 80)\n",
    "    plt.xlabel('Principal Component 1')\n",
    "    plt.ylabel('Principal Component 2')\n",
    "    plt.legend((PCA_p5, PCA_p4, PCA_p6), ('<50K', '50-100K', '>100K'), bbox_to_anchor=(0.5, 1.06), loc = 'center', ncol = 3)\n",
    "    \n",
    "    plt.suptitle(plot_title, fontsize = 14, fontweight = 'bold', y = 1.05)\n",
    "    plt.show()"
   ]
  },
  {
   "cell_type": "markdown",
   "metadata": {},
   "source": [
    "The figure below applys the `PCA_plotter` function and develops 2 PCA plots. The plot on the left includes the PCA plot of the entire income training set, whereas the plot on the right is another PCA plot which includes a balanced amount of data points, where each class has an equal number of points. This was done since in the previous section it was discovered that there are far more individuals with and income &lt;50K, which would out shadow the remaining points in the other classes.\n",
    "\n",
    "The figure below shows some strange relationships. It seems as if the training set suggests that there is a lot of overlap in terms of attaining a certain income bracket. Although it seems that the majority of the &lt;50K income bracket individuals are in a specific cluster with high variance in the pricipal component 1 axis and much lower variance in the principal component 2 axis. The remainder of the classes have simillar clustering properties in terms of their variance and location. There also seems to be a specific cluster of just 50-100K and &gt;100K individuals in the upper left hand side of the PCA plot with no overlap of the &lt;50K class.\n",
    "\n",
    "The primary goal in the upcoming sections would be to decrease the high variances to make a more balanced dataset."
   ]
  },
  {
   "cell_type": "code",
   "execution_count": 17,
   "metadata": {
    "scrolled": false
   },
   "outputs": [
    {
     "data": {
      "image/png": "[encoded data removed]",
      "text/plain": [
       "<matplotlib.figure.Figure at 0x7fa7bcea0630>"
      ]
     },
     "metadata": {},
     "output_type": "display_data"
    }
   ],
   "source": [
    "PCA_plotter(cleaned_train_x, cleaned_train_y, 'PCA of the Full (Left) and Blanced (Right) Income Training Set')"
   ]
  },
  {
   "cell_type": "markdown",
   "metadata": {},
   "source": [
    "The next method to visualize feature importance is through a correlation plot. A correlation plot essentially measures each features correlation against each other on whether they have high positive/negative correalation, or minimal to no correlation at all. Below, we are creating the correaltion matrix using the pearson correlation coefficient method, and plotting onto a correlation plot."
   ]
  },
  {
   "cell_type": "code",
   "execution_count": 18,
   "metadata": {},
   "outputs": [
    {
     "data": {
      "image/png": "[encoded data removed]",
      "text/plain": [
       "<matplotlib.figure.Figure at 0x7fa7bcf8a048>"
      ]
     },
     "metadata": {},
     "output_type": "display_data"
    }
   ],
   "source": [
    "# Resetting plot size. \n",
    "plt.rcParams['figure.figsize'] = (12, 8)\n",
    "\n",
    "# Creating the correlation matrix. Uses the pearson correlation coefficients.\n",
    "corr_matrix = cleaned_train.copy()\n",
    "corr_matrix = corr_matrix.corr()\n",
    "\n",
    "# Plotting the correlation plot.\n",
    "plt.matshow(np.asarray(corr_matrix))\n",
    "fea_titles = cleaned_train.columns[0:15]\n",
    "cor_y_pos = np.arange(len(fea_titles))\n",
    "\n",
    "plt.xticks(cor_y_pos, fea_titles, rotation = 75)\n",
    "plt.yticks(cor_y_pos, fea_titles)\n",
    "plt.title('Correlation Plot for Income Training Set', fontsize = 14, fontweight = 'bold', y = 1.3)\n",
    "plt.colorbar()\n",
    "plt.show()"
   ]
  },
  {
   "cell_type": "markdown",
   "metadata": {},
   "source": [
    "The figure above shows the correlation plot of the full income training set. The goal in determining feature importance is to concentrate on co-feature pairs with 0 or low positive/negative correlations, and comparing it to the correlation to the income bracket. This is because, it would suggest that these feature pairs don't have much of an affect on each other, and if a certain feature has consistant low affective co-feature pairs, that particular feature may be irrelevant to the classification model.\n",
    "\n",
    "The first features to note are the capital gain and loss features. These two features have very consistent correlations with their co-feature pairs. These two features act very similarly, and thus could be considered for a combined feature that includes both.\n",
    "\n",
    "The next two features of interest are the marital status and relationship features. These two features seem to work hand-in-hand, therefore removing one or the other would be best to simplify the dataset. Dropping the marital status feature and keeping the relationship feature would be ideal, since the relationship feature is more diverse and considers non-marital replationships, whereas the marital status feature can essentially be summed up into single, married, or divorced. However, it seems both features also have very minimal correlation towards the income bracket, so it could even be considered to drop both features instead.\n",
    "\n",
    "The hours per week feature shows some strong correlation with marital status, relationship, and some correlation with income bracket, but it doesn't show much correlation towards any of the other features. Race seems to also not have a major affect on other features, although from the dataset, it seemed that the _white_ race may have been overshadowed from the entire sample set across all three classes. Either way, in order to simplyfy the dataset, the race feature could also be dropped. The native country feature seems to also have minimal to no correlation with other co-feature pairs, including the income bracket, most likely due to the _United States_ category overshadowing the remainder. Thus, the nationality feature can also be dropped.\n",
    "\n",
    "The education and education level features, similarly to marital status and relationship features, seem to have the same affect on other features, therefore one or the other can be dropped. Ideally, the education level feature should be dropped since we've investigated the education feature earlier, however, the education level feature seems to have stronger correlation towards the income bracket.\n",
    "\n",
    "Overall, it seems that an individual's age, education level, sex, and hours per week tend to affect their income bracket the most. The next section will investigate deeper on whether the unimportant features, and possible new features, helps the data's variance."
   ]
  },
  {
   "cell_type": "markdown",
   "metadata": {},
   "source": [
    "<br>\n",
    "## 3. Feature Selection\n",
    "##### _Feature engineering and selection._"
   ]
  },
  {
   "cell_type": "markdown",
   "metadata": {},
   "source": [
    "### 3.1 Feature Engineering\n",
    "In this section, we need to create a feature based on the original dataset. From the previous correlation plot, it seemed as if the age didn't have a stronger impact as it could. In general, the continous nature of the age can be causing some overshadowing in certain age groups, hence a feature of categorical age brackets is developped below from the continous set, in order to simplyfy the set further. The new age brackets are the following: 0-18, 19-24, 25-30, 31-40, 41-50, 51-100."
   ]
  },
  {
   "cell_type": "code",
   "execution_count": 19,
   "metadata": {},
   "outputs": [],
   "source": [
    "# Creating age bracket feature.\n",
    "# Age brackets are the following: ['0-18', '19-24', '25-30', '31-40', '41-50', '51-100']\n",
    "cleaned_train['Age'] = pd.cut(cleaned_train['Age'], bins = [0, 18, 24, 30, 40, 50, 100], labels = [0, 1, 2, 3, 4, 5])\n",
    "cleaned_test['Age'] = pd.cut(cleaned_test['Age'], bins = [0, 18, 24, 30, 40, 50, 100], labels = [0, 1, 2, 3, 4, 5])"
   ]
  },
  {
   "cell_type": "code",
   "execution_count": 20,
   "metadata": {},
   "outputs": [
    {
     "data": {
      "text/html": [
       "<div>\n",
       "<table border=\"1\" class=\"dataframe\">\n",
       "  <thead>\n",
       "    <tr style=\"text-align: right;\">\n",
       "      <th></th>\n",
       "      <th>Age</th>\n",
       "      <th>WorkClass</th>\n",
       "      <th>FinalWeight</th>\n",
       "      <th>Education</th>\n",
       "      <th>EducationLvl</th>\n",
       "      <th>MaritalStatus</th>\n",
       "      <th>Occupation</th>\n",
       "      <th>Relationship</th>\n",
       "      <th>Race</th>\n",
       "      <th>Sex</th>\n",
       "      <th>CapitalGain</th>\n",
       "      <th>CapitalLoss</th>\n",
       "      <th>HoursPerWeek</th>\n",
       "      <th>NativeCountry</th>\n",
       "      <th>IncomeBracket</th>\n",
       "    </tr>\n",
       "  </thead>\n",
       "  <tbody>\n",
       "    <tr>\n",
       "      <th>0</th>\n",
       "      <td>4</td>\n",
       "      <td>6</td>\n",
       "      <td>179151</td>\n",
       "      <td>15</td>\n",
       "      <td>10</td>\n",
       "      <td>2</td>\n",
       "      <td>4</td>\n",
       "      <td>0</td>\n",
       "      <td>4</td>\n",
       "      <td>1</td>\n",
       "      <td>0</td>\n",
       "      <td>0</td>\n",
       "      <td>40</td>\n",
       "      <td>38</td>\n",
       "      <td>1</td>\n",
       "    </tr>\n",
       "    <tr>\n",
       "      <th>1</th>\n",
       "      <td>2</td>\n",
       "      <td>3</td>\n",
       "      <td>68021</td>\n",
       "      <td>15</td>\n",
       "      <td>10</td>\n",
       "      <td>4</td>\n",
       "      <td>7</td>\n",
       "      <td>1</td>\n",
       "      <td>4</td>\n",
       "      <td>0</td>\n",
       "      <td>0</td>\n",
       "      <td>0</td>\n",
       "      <td>30</td>\n",
       "      <td>38</td>\n",
       "      <td>1</td>\n",
       "    </tr>\n",
       "    <tr>\n",
       "      <th>2</th>\n",
       "      <td>1</td>\n",
       "      <td>3</td>\n",
       "      <td>233499</td>\n",
       "      <td>15</td>\n",
       "      <td>10</td>\n",
       "      <td>2</td>\n",
       "      <td>13</td>\n",
       "      <td>0</td>\n",
       "      <td>4</td>\n",
       "      <td>1</td>\n",
       "      <td>0</td>\n",
       "      <td>0</td>\n",
       "      <td>40</td>\n",
       "      <td>38</td>\n",
       "      <td>0</td>\n",
       "    </tr>\n",
       "    <tr>\n",
       "      <th>3</th>\n",
       "      <td>3</td>\n",
       "      <td>5</td>\n",
       "      <td>168782</td>\n",
       "      <td>6</td>\n",
       "      <td>5</td>\n",
       "      <td>2</td>\n",
       "      <td>2</td>\n",
       "      <td>0</td>\n",
       "      <td>4</td>\n",
       "      <td>1</td>\n",
       "      <td>0</td>\n",
       "      <td>0</td>\n",
       "      <td>32</td>\n",
       "      <td>38</td>\n",
       "      <td>1</td>\n",
       "    </tr>\n",
       "    <tr>\n",
       "      <th>4</th>\n",
       "      <td>5</td>\n",
       "      <td>5</td>\n",
       "      <td>105582</td>\n",
       "      <td>12</td>\n",
       "      <td>14</td>\n",
       "      <td>2</td>\n",
       "      <td>11</td>\n",
       "      <td>0</td>\n",
       "      <td>4</td>\n",
       "      <td>1</td>\n",
       "      <td>2228</td>\n",
       "      <td>0</td>\n",
       "      <td>50</td>\n",
       "      <td>38</td>\n",
       "      <td>1</td>\n",
       "    </tr>\n",
       "  </tbody>\n",
       "</table>\n",
       "</div>"
      ],
      "text/plain": [
       "  Age  WorkClass  FinalWeight  Education  EducationLvl  MaritalStatus  \\\n",
       "0   4          6       179151         15            10              2   \n",
       "1   2          3        68021         15            10              4   \n",
       "2   1          3       233499         15            10              2   \n",
       "3   3          5       168782          6             5              2   \n",
       "4   5          5       105582         12            14              2   \n",
       "\n",
       "   Occupation  Relationship  Race  Sex  CapitalGain  CapitalLoss  \\\n",
       "0           4             0     4    1            0            0   \n",
       "1           7             1     4    0            0            0   \n",
       "2          13             0     4    1            0            0   \n",
       "3           2             0     4    1            0            0   \n",
       "4          11             0     4    1         2228            0   \n",
       "\n",
       "   HoursPerWeek  NativeCountry  IncomeBracket  \n",
       "0            40             38              1  \n",
       "1            30             38              1  \n",
       "2            40             38              0  \n",
       "3            32             38              1  \n",
       "4            50             38              1  "
      ]
     },
     "execution_count": 20,
     "metadata": {},
     "output_type": "execute_result"
    }
   ],
   "source": [
    "# Previewing the new datset.\n",
    "cleaned_train.head()"
   ]
  },
  {
   "cell_type": "markdown",
   "metadata": {},
   "source": [
    "Earlier, we discussed how the capital gain and loss features had simillar impact on the entire set. It can be hypothesized that an individual that goes into investments would tend to have a higher income level. Therefore, instead of simply dropping the capital gain/loss features, another feature can be created on whether the individual is an investor or not. This can be a categorical feature, where 0 means no, and 1 means yes. This would mean that if an individual had a value for either capital gain, or loss, then the new feature's value would be 1. This may solve issues on extremely high values in the capital gain/loss features. "
   ]
  },
  {
   "cell_type": "code",
   "execution_count": 21,
   "metadata": {},
   "outputs": [],
   "source": [
    "# Creating investor feature.\n",
    "# Investor feature follows the following realtionship: yes = 1, no = 0.\n",
    "cleaned_train['Investor'] = np.where(((cleaned_train['CapitalGain'] + cleaned_train['CapitalLoss']) != 0), '1', '0')\n",
    "cleaned_test['Investor'] = np.where(((cleaned_test['CapitalGain'] + cleaned_test['CapitalLoss']) != 0), '1', '0')"
   ]
  },
  {
   "cell_type": "code",
   "execution_count": 22,
   "metadata": {},
   "outputs": [
    {
     "data": {
      "text/html": [
       "<div>\n",
       "<table border=\"1\" class=\"dataframe\">\n",
       "  <thead>\n",
       "    <tr style=\"text-align: right;\">\n",
       "      <th></th>\n",
       "      <th>Age</th>\n",
       "      <th>WorkClass</th>\n",
       "      <th>FinalWeight</th>\n",
       "      <th>Education</th>\n",
       "      <th>EducationLvl</th>\n",
       "      <th>MaritalStatus</th>\n",
       "      <th>Occupation</th>\n",
       "      <th>Relationship</th>\n",
       "      <th>Race</th>\n",
       "      <th>Sex</th>\n",
       "      <th>CapitalGain</th>\n",
       "      <th>CapitalLoss</th>\n",
       "      <th>HoursPerWeek</th>\n",
       "      <th>NativeCountry</th>\n",
       "      <th>IncomeBracket</th>\n",
       "      <th>Investor</th>\n",
       "    </tr>\n",
       "  </thead>\n",
       "  <tbody>\n",
       "    <tr>\n",
       "      <th>0</th>\n",
       "      <td>4</td>\n",
       "      <td>6</td>\n",
       "      <td>179151</td>\n",
       "      <td>15</td>\n",
       "      <td>10</td>\n",
       "      <td>2</td>\n",
       "      <td>4</td>\n",
       "      <td>0</td>\n",
       "      <td>4</td>\n",
       "      <td>1</td>\n",
       "      <td>0</td>\n",
       "      <td>0</td>\n",
       "      <td>40</td>\n",
       "      <td>38</td>\n",
       "      <td>1</td>\n",
       "      <td>0</td>\n",
       "    </tr>\n",
       "    <tr>\n",
       "      <th>1</th>\n",
       "      <td>2</td>\n",
       "      <td>3</td>\n",
       "      <td>68021</td>\n",
       "      <td>15</td>\n",
       "      <td>10</td>\n",
       "      <td>4</td>\n",
       "      <td>7</td>\n",
       "      <td>1</td>\n",
       "      <td>4</td>\n",
       "      <td>0</td>\n",
       "      <td>0</td>\n",
       "      <td>0</td>\n",
       "      <td>30</td>\n",
       "      <td>38</td>\n",
       "      <td>1</td>\n",
       "      <td>0</td>\n",
       "    </tr>\n",
       "    <tr>\n",
       "      <th>2</th>\n",
       "      <td>1</td>\n",
       "      <td>3</td>\n",
       "      <td>233499</td>\n",
       "      <td>15</td>\n",
       "      <td>10</td>\n",
       "      <td>2</td>\n",
       "      <td>13</td>\n",
       "      <td>0</td>\n",
       "      <td>4</td>\n",
       "      <td>1</td>\n",
       "      <td>0</td>\n",
       "      <td>0</td>\n",
       "      <td>40</td>\n",
       "      <td>38</td>\n",
       "      <td>0</td>\n",
       "      <td>0</td>\n",
       "    </tr>\n",
       "    <tr>\n",
       "      <th>3</th>\n",
       "      <td>3</td>\n",
       "      <td>5</td>\n",
       "      <td>168782</td>\n",
       "      <td>6</td>\n",
       "      <td>5</td>\n",
       "      <td>2</td>\n",
       "      <td>2</td>\n",
       "      <td>0</td>\n",
       "      <td>4</td>\n",
       "      <td>1</td>\n",
       "      <td>0</td>\n",
       "      <td>0</td>\n",
       "      <td>32</td>\n",
       "      <td>38</td>\n",
       "      <td>1</td>\n",
       "      <td>0</td>\n",
       "    </tr>\n",
       "    <tr>\n",
       "      <th>4</th>\n",
       "      <td>5</td>\n",
       "      <td>5</td>\n",
       "      <td>105582</td>\n",
       "      <td>12</td>\n",
       "      <td>14</td>\n",
       "      <td>2</td>\n",
       "      <td>11</td>\n",
       "      <td>0</td>\n",
       "      <td>4</td>\n",
       "      <td>1</td>\n",
       "      <td>2228</td>\n",
       "      <td>0</td>\n",
       "      <td>50</td>\n",
       "      <td>38</td>\n",
       "      <td>1</td>\n",
       "      <td>1</td>\n",
       "    </tr>\n",
       "  </tbody>\n",
       "</table>\n",
       "</div>"
      ],
      "text/plain": [
       "  Age  WorkClass  FinalWeight  Education  EducationLvl  MaritalStatus  \\\n",
       "0   4          6       179151         15            10              2   \n",
       "1   2          3        68021         15            10              4   \n",
       "2   1          3       233499         15            10              2   \n",
       "3   3          5       168782          6             5              2   \n",
       "4   5          5       105582         12            14              2   \n",
       "\n",
       "   Occupation  Relationship  Race  Sex  CapitalGain  CapitalLoss  \\\n",
       "0           4             0     4    1            0            0   \n",
       "1           7             1     4    0            0            0   \n",
       "2          13             0     4    1            0            0   \n",
       "3           2             0     4    1            0            0   \n",
       "4          11             0     4    1         2228            0   \n",
       "\n",
       "   HoursPerWeek  NativeCountry  IncomeBracket Investor  \n",
       "0            40             38              1        0  \n",
       "1            30             38              1        0  \n",
       "2            40             38              0        0  \n",
       "3            32             38              1        0  \n",
       "4            50             38              1        1  "
      ]
     },
     "execution_count": 22,
     "metadata": {},
     "output_type": "execute_result"
    }
   ],
   "source": [
    "# Previewing the new datset.\n",
    "cleaned_train.head()"
   ]
  },
  {
   "cell_type": "markdown",
   "metadata": {},
   "source": [
    "### 3.2 Final Feature Selection\n",
    "In this section, we select the features we need and drop the ones discussed in Sections 2.2 and 3.1. Therefore, the final features used are the following: `Age, EducationLvl, Occupation, Relationship, Sex, Investor, HoursPerWeek`."
   ]
  },
  {
   "cell_type": "code",
   "execution_count": 23,
   "metadata": {},
   "outputs": [],
   "source": [
    "# Extracting and copying final features into new training and test sets.\n",
    "final_train = cleaned_train[['Age', 'EducationLvl', 'Occupation', 'Relationship', 'Sex', 'Investor', 'HoursPerWeek', 'IncomeBracket']].copy()\n",
    "final_test = cleaned_test[['Age', 'EducationLvl', 'Occupation', 'Relationship', 'Sex', 'Investor', 'HoursPerWeek', 'IncomeBracket']].copy()"
   ]
  },
  {
   "cell_type": "code",
   "execution_count": 24,
   "metadata": {},
   "outputs": [
    {
     "data": {
      "text/html": [
       "<div>\n",
       "<table border=\"1\" class=\"dataframe\">\n",
       "  <thead>\n",
       "    <tr style=\"text-align: right;\">\n",
       "      <th></th>\n",
       "      <th>Age</th>\n",
       "      <th>EducationLvl</th>\n",
       "      <th>Occupation</th>\n",
       "      <th>Relationship</th>\n",
       "      <th>Sex</th>\n",
       "      <th>Investor</th>\n",
       "      <th>HoursPerWeek</th>\n",
       "      <th>IncomeBracket</th>\n",
       "    </tr>\n",
       "  </thead>\n",
       "  <tbody>\n",
       "    <tr>\n",
       "      <th>0</th>\n",
       "      <td>4</td>\n",
       "      <td>10</td>\n",
       "      <td>4</td>\n",
       "      <td>0</td>\n",
       "      <td>1</td>\n",
       "      <td>0</td>\n",
       "      <td>40</td>\n",
       "      <td>1</td>\n",
       "    </tr>\n",
       "    <tr>\n",
       "      <th>1</th>\n",
       "      <td>2</td>\n",
       "      <td>10</td>\n",
       "      <td>7</td>\n",
       "      <td>1</td>\n",
       "      <td>0</td>\n",
       "      <td>0</td>\n",
       "      <td>30</td>\n",
       "      <td>1</td>\n",
       "    </tr>\n",
       "    <tr>\n",
       "      <th>2</th>\n",
       "      <td>1</td>\n",
       "      <td>10</td>\n",
       "      <td>13</td>\n",
       "      <td>0</td>\n",
       "      <td>1</td>\n",
       "      <td>0</td>\n",
       "      <td>40</td>\n",
       "      <td>0</td>\n",
       "    </tr>\n",
       "    <tr>\n",
       "      <th>3</th>\n",
       "      <td>3</td>\n",
       "      <td>5</td>\n",
       "      <td>2</td>\n",
       "      <td>0</td>\n",
       "      <td>1</td>\n",
       "      <td>0</td>\n",
       "      <td>32</td>\n",
       "      <td>1</td>\n",
       "    </tr>\n",
       "    <tr>\n",
       "      <th>4</th>\n",
       "      <td>5</td>\n",
       "      <td>14</td>\n",
       "      <td>11</td>\n",
       "      <td>0</td>\n",
       "      <td>1</td>\n",
       "      <td>1</td>\n",
       "      <td>50</td>\n",
       "      <td>1</td>\n",
       "    </tr>\n",
       "  </tbody>\n",
       "</table>\n",
       "</div>"
      ],
      "text/plain": [
       "  Age  EducationLvl  Occupation  Relationship  Sex Investor  HoursPerWeek  \\\n",
       "0   4            10           4             0    1        0            40   \n",
       "1   2            10           7             1    0        0            30   \n",
       "2   1            10          13             0    1        0            40   \n",
       "3   3             5           2             0    1        0            32   \n",
       "4   5            14          11             0    1        1            50   \n",
       "\n",
       "   IncomeBracket  \n",
       "0              1  \n",
       "1              1  \n",
       "2              0  \n",
       "3              1  \n",
       "4              1  "
      ]
     },
     "execution_count": 24,
     "metadata": {},
     "output_type": "execute_result"
    }
   ],
   "source": [
    "# Previewing final training set.\n",
    "final_train.head()"
   ]
  },
  {
   "cell_type": "code",
   "execution_count": 25,
   "metadata": {},
   "outputs": [
    {
     "data": {
      "text/html": [
       "<div>\n",
       "<table border=\"1\" class=\"dataframe\">\n",
       "  <thead>\n",
       "    <tr style=\"text-align: right;\">\n",
       "      <th></th>\n",
       "      <th>Age</th>\n",
       "      <th>EducationLvl</th>\n",
       "      <th>Occupation</th>\n",
       "      <th>Relationship</th>\n",
       "      <th>Sex</th>\n",
       "      <th>Investor</th>\n",
       "      <th>HoursPerWeek</th>\n",
       "      <th>IncomeBracket</th>\n",
       "    </tr>\n",
       "  </thead>\n",
       "  <tbody>\n",
       "    <tr>\n",
       "      <th>0</th>\n",
       "      <td>5</td>\n",
       "      <td>10</td>\n",
       "      <td>11</td>\n",
       "      <td>5</td>\n",
       "      <td>0</td>\n",
       "      <td>0</td>\n",
       "      <td>25</td>\n",
       "      <td>0</td>\n",
       "    </tr>\n",
       "    <tr>\n",
       "      <th>1</th>\n",
       "      <td>3</td>\n",
       "      <td>13</td>\n",
       "      <td>7</td>\n",
       "      <td>2</td>\n",
       "      <td>1</td>\n",
       "      <td>0</td>\n",
       "      <td>50</td>\n",
       "      <td>1</td>\n",
       "    </tr>\n",
       "    <tr>\n",
       "      <th>2</th>\n",
       "      <td>2</td>\n",
       "      <td>13</td>\n",
       "      <td>7</td>\n",
       "      <td>1</td>\n",
       "      <td>0</td>\n",
       "      <td>0</td>\n",
       "      <td>25</td>\n",
       "      <td>1</td>\n",
       "    </tr>\n",
       "    <tr>\n",
       "      <th>3</th>\n",
       "      <td>2</td>\n",
       "      <td>13</td>\n",
       "      <td>13</td>\n",
       "      <td>2</td>\n",
       "      <td>1</td>\n",
       "      <td>0</td>\n",
       "      <td>35</td>\n",
       "      <td>1</td>\n",
       "    </tr>\n",
       "    <tr>\n",
       "      <th>4</th>\n",
       "      <td>1</td>\n",
       "      <td>9</td>\n",
       "      <td>7</td>\n",
       "      <td>2</td>\n",
       "      <td>0</td>\n",
       "      <td>0</td>\n",
       "      <td>35</td>\n",
       "      <td>1</td>\n",
       "    </tr>\n",
       "  </tbody>\n",
       "</table>\n",
       "</div>"
      ],
      "text/plain": [
       "  Age  EducationLvl  Occupation  Relationship  Sex Investor  HoursPerWeek  \\\n",
       "0   5            10          11             5    0        0            25   \n",
       "1   3            13           7             2    1        0            50   \n",
       "2   2            13           7             1    0        0            25   \n",
       "3   2            13          13             2    1        0            35   \n",
       "4   1             9           7             2    0        0            35   \n",
       "\n",
       "   IncomeBracket  \n",
       "0              0  \n",
       "1              1  \n",
       "2              1  \n",
       "3              1  \n",
       "4              1  "
      ]
     },
     "execution_count": 25,
     "metadata": {},
     "output_type": "execute_result"
    }
   ],
   "source": [
    "# Previewing final test set.\n",
    "final_test.head()"
   ]
  },
  {
   "cell_type": "markdown",
   "metadata": {},
   "source": [
    "Below, we're splitting the features and classes apart into seperate dataframes for future model training use."
   ]
  },
  {
   "cell_type": "code",
   "execution_count": 26,
   "metadata": {
    "scrolled": true
   },
   "outputs": [
    {
     "data": {
      "text/html": [
       "<div>\n",
       "<table border=\"1\" class=\"dataframe\">\n",
       "  <thead>\n",
       "    <tr style=\"text-align: right;\">\n",
       "      <th></th>\n",
       "      <th>Age</th>\n",
       "      <th>EducationLvl</th>\n",
       "      <th>Occupation</th>\n",
       "      <th>Relationship</th>\n",
       "      <th>Sex</th>\n",
       "      <th>Investor</th>\n",
       "      <th>HoursPerWeek</th>\n",
       "    </tr>\n",
       "  </thead>\n",
       "  <tbody>\n",
       "    <tr>\n",
       "      <th>0</th>\n",
       "      <td>4</td>\n",
       "      <td>10</td>\n",
       "      <td>4</td>\n",
       "      <td>0</td>\n",
       "      <td>1</td>\n",
       "      <td>0</td>\n",
       "      <td>40</td>\n",
       "    </tr>\n",
       "    <tr>\n",
       "      <th>1</th>\n",
       "      <td>2</td>\n",
       "      <td>10</td>\n",
       "      <td>7</td>\n",
       "      <td>1</td>\n",
       "      <td>0</td>\n",
       "      <td>0</td>\n",
       "      <td>30</td>\n",
       "    </tr>\n",
       "    <tr>\n",
       "      <th>2</th>\n",
       "      <td>1</td>\n",
       "      <td>10</td>\n",
       "      <td>13</td>\n",
       "      <td>0</td>\n",
       "      <td>1</td>\n",
       "      <td>0</td>\n",
       "      <td>40</td>\n",
       "    </tr>\n",
       "    <tr>\n",
       "      <th>3</th>\n",
       "      <td>3</td>\n",
       "      <td>5</td>\n",
       "      <td>2</td>\n",
       "      <td>0</td>\n",
       "      <td>1</td>\n",
       "      <td>0</td>\n",
       "      <td>32</td>\n",
       "    </tr>\n",
       "    <tr>\n",
       "      <th>4</th>\n",
       "      <td>5</td>\n",
       "      <td>14</td>\n",
       "      <td>11</td>\n",
       "      <td>0</td>\n",
       "      <td>1</td>\n",
       "      <td>1</td>\n",
       "      <td>50</td>\n",
       "    </tr>\n",
       "  </tbody>\n",
       "</table>\n",
       "</div>"
      ],
      "text/plain": [
       "  Age  EducationLvl  Occupation  Relationship  Sex Investor  HoursPerWeek\n",
       "0   4            10           4             0    1        0            40\n",
       "1   2            10           7             1    0        0            30\n",
       "2   1            10          13             0    1        0            40\n",
       "3   3             5           2             0    1        0            32\n",
       "4   5            14          11             0    1        1            50"
      ]
     },
     "execution_count": 26,
     "metadata": {},
     "output_type": "execute_result"
    }
   ],
   "source": [
    "# Splitting the features and classes for the final training and test sets.\n",
    "final_train_x = final_train[final_train.columns[0:7]]\n",
    "final_train_y = final_train[final_train.columns[7]]\n",
    "final_test_x = final_test[final_test.columns[0:7]]\n",
    "final_test_y = final_test[final_test.columns[7]]\n",
    "\n",
    "# Previousing the final training features set.\n",
    "final_train_x.head()"
   ]
  },
  {
   "cell_type": "markdown",
   "metadata": {},
   "source": [
    "Now that the final dataset is created, the new PCA plot should be checked to see how variance is affected. The figure below shows just that, where the plot on the left is the PCA of the full final datset, and the plot on the right is the balanced final dataset, with equal amounts of each class. It's clear to see that the new dataset has much less covariances than the initial dataset. However, the clusters of each class still over lap each other in cetain sections. This is most probably due to the wide distribution on the individuals in the &lt;50K income bracket thoughout each feature. However, with lower variances, a model can be trained to give much better results when comparing to the original dataset.  "
   ]
  },
  {
   "cell_type": "code",
   "execution_count": 27,
   "metadata": {},
   "outputs": [
    {
     "data": {
      "image/png": "[encoded data removed]",
      "text/plain": [
       "<matplotlib.figure.Figure at 0x7fa7c6a1b860>"
      ]
     },
     "metadata": {},
     "output_type": "display_data"
    }
   ],
   "source": [
    "# Resetting plot size. \n",
    "plt.rcParams['figure.figsize'] = (12, 4)\n",
    "\n",
    "# Plotting final dataset's PCA plot.\n",
    "PCA_plotter(final_train_x, final_train_y, 'PCA of the Full (Left) and Blanced (Right) Final Income Training Set')"
   ]
  },
  {
   "cell_type": "markdown",
   "metadata": {},
   "source": [
    "<br>\n",
    "## 4. Model Implementation and Validation\n",
    "##### _Training, validating and comparing models._\n",
    "In this section, four different classification algorithms  will be implemented on the training data, while using 10-fold cross-validation. The four algorithms that were chosen are primarily ensemble methods. These algorithms include: a Bagging Classifier, Gradient Boosting, Random Forest Tree, and the Multi-Layer Perceptron Neural Network Classifier. The reason for choosing ensemble algorithms is due to their power in using multiple algorithms, in different ways, to create a much better classificatoion model.\n",
    "\n",
    "The bagging technique, short for bootstrap aggregating, essentially works as its name suggests. The bagging classifier essentially trains multiple classifiers on random subsets of the given full dataset. The prediction is then based on the aggregate of the individual classifier's predictions, usually by voting or averaging. The benefit of this method is that it can allow a reduction in variance due to it's random nature in selecting subsets of data. This benefit leads to a con, in which the random subsets might miss out on certain relationships expressed through variance, and the features that trained on that particular section may get silenced during the aggregation portion of the algorithm.\n",
    "\n",
    "Gradient boosting works somewhat similarly to the bagging method, except it's a collection of weak classifiers. Essentially, multiple gradient classifiers are computed on the data sequentially, where each new classifier is trained on the sections where the previous classifier failed to predict correctly on. The benfit of gradient boosting over the bagging technique is that, instead of voting/averaging the results of multiple classifiers, all the weak classifiers work together, as they now become an _expert_ in their subset of weak predictions. However, this can cause some overfitting issues, depending on how the hyperparameters are set.\n",
    "\n",
    "Random forests is another ensemble method that essentially creates multiple decision trees on randomized subsets of data during training. This allows multiple classification predictions, where the majority of the predictions would be used as the final predicted class. This is much more efficient than using a single decision tree, since they tend to overfit very easily.\n",
    "\n",
    "The final method considered is the multi-layer perceptron neural network. A neural network, can be thought of as a special form of an ensemble method. The basic idea of how a neural network works is it essentially stochastically optimizes multiple activation functions within each layer, for each neuron or perceptron, until the neural netowrk's loss function converges to a certain threshold. The benfits of using a neural network is that it can easily learn non-linear models. However, the cons include the stochastic nature of optimization, which won't give consistent loss/cost updates. The stochastic method must be used since loss/cost functions of hidden layers may also not be non-convex, which would also not give consistent results.\n",
    "\n",
    "With an understanding of the pros and cons of each algortithm, the next task is to train and apply 10-fold cross validation. Below, we define the function `train_crossval_model`, which trains a given model with the given data, applies 10-fold cross validation, and then returns those accuracy values. A function is created for these steps in order to avoid repetition of the same steps. "
   ]
  },
  {
   "cell_type": "code",
   "execution_count": 28,
   "metadata": {
    "collapsed": true
   },
   "outputs": [],
   "source": [
    "def train_crossval_model(x_train, y_train, model, model_name):\n",
    "    \"\"\"\n",
    "    Takes in training data and a model. Trains and performs 10-fold\n",
    "    cross validation. Returns an array of the 10 cross validation values.\n",
    "    \n",
    "    Input:\n",
    "        x_train    : M x (N-1) training features.\n",
    "        y_train    : M x 1 training classes.\n",
    "        model      : An instance of a scikit-learn's model functions.\n",
    "        model_name : String value for the model's name.\n",
    "    \n",
    "    Output:\n",
    "        cross_val  : 1 x 10 array of cross validation scores.\n",
    "    \"\"\"\n",
    "    print(model_name, ': Training', end = '')\n",
    "    model.fit(x_train, y_train)\n",
    "    print(' -> 10-Fold Cross Validating', end = '')\n",
    "    cross_val = cross_val_score(model, x_train, y_train, cv = 10, scoring = 'accuracy')\n",
    "    print(' -> Validation Average:', (100*cross_val.mean()), '%')\n",
    "    \n",
    "    return cross_val"
   ]
  },
  {
   "cell_type": "markdown",
   "metadata": {},
   "source": [
    "Here, we're applying the function above to the four models discussed earlier, and displaying them in a dataframe table. Note that some of the classifiers take some time to run due to longer training requirements. The cell below may take around to 1.5 - 2 minutes to run when using the data science workbench."
   ]
  },
  {
   "cell_type": "code",
   "execution_count": 29,
   "metadata": {},
   "outputs": [
    {
     "name": "stdout",
     "output_type": "stream",
     "text": [
      "BGC : Training -> 10-Fold Cross Validating -> Validation Average: 76.1926581518 %\n",
      "GBC : Training -> 10-Fold Cross Validating -> Validation Average: 79.7469467727 %\n",
      "RFC : Training -> 10-Fold Cross Validating -> Validation Average: 76.4057526758 %\n",
      "MLP : Training -> 10-Fold Cross Validating -> Validation Average: 79.0181431077 %\n"
     ]
    },
    {
     "data": {
      "text/html": [
       "<div>\n",
       "<table border=\"1\" class=\"dataframe\">\n",
       "  <thead>\n",
       "    <tr style=\"text-align: right;\">\n",
       "      <th></th>\n",
       "      <th>Bagging</th>\n",
       "      <th>Gradient Boosting</th>\n",
       "      <th>Random Forest</th>\n",
       "      <th>MLP Neural Network</th>\n",
       "    </tr>\n",
       "  </thead>\n",
       "  <tbody>\n",
       "    <tr>\n",
       "      <th>Cross Validation Average (%)</th>\n",
       "      <td>76.192658</td>\n",
       "      <td>79.746947</td>\n",
       "      <td>76.405753</td>\n",
       "      <td>79.018143</td>\n",
       "    </tr>\n",
       "  </tbody>\n",
       "</table>\n",
       "</div>"
      ],
      "text/plain": [
       "                                Bagging  Gradient Boosting  Random Forest  \\\n",
       "Cross Validation Average (%)  76.192658          79.746947      76.405753   \n",
       "\n",
       "                              MLP Neural Network  \n",
       "Cross Validation Average (%)           79.018143  "
      ]
     },
     "execution_count": 29,
     "metadata": {},
     "output_type": "execute_result"
    }
   ],
   "source": [
    "# Transforming the data into numpy arrays.\n",
    "x_train = np.asarray(final_train_x).astype('int')\n",
    "y_train = np.asarray(final_train_y).astype('int')\n",
    "\n",
    "# Setting up and cross validating each classifier.\n",
    "model_BGC = BaggingClassifier()\n",
    "cross_val_BGC = train_crossval_model(x_train, y_train, model_BGC, 'BGC')\n",
    "\n",
    "model_GBC = GradientBoostingClassifier()\n",
    "cross_val_GBC = train_crossval_model(x_train, y_train, model_GBC, 'GBC')\n",
    "\n",
    "model_RFC = RandomForestClassifier()\n",
    "cross_val_RFC = train_crossval_model(x_train, y_train, model_RFC, 'RFC')\n",
    "\n",
    "model_MLP = MLPClassifier()\n",
    "cross_val_MLP = train_crossval_model(x_train, y_train, model_MLP, 'MLP')\n",
    "\n",
    "# Representing accuracy average as a panda to show the head table.\n",
    "cva_avg = np.array([[100*cross_val_BGC.mean(), 100*cross_val_GBC.mean(), 100*cross_val_RFC.mean(), 100*cross_val_MLP.mean()]])\n",
    "view_cva = pd.DataFrame(data = cva_avg)\n",
    "view_cva.columns = ['Bagging', 'Gradient Boosting', 'Random Forest', 'MLP Neural Network']\n",
    "view_cva.index = ['Cross Validation Average (%)']\n",
    "view_cva.head()"
   ]
  },
  {
   "cell_type": "markdown",
   "metadata": {},
   "source": [
    "From the table above, it's clear to see that the gradient boosting classifier and the neural network out performed the remaining classifiers, while the bagging classifier gave the lowest accuracy average, with random forest very close to it. These results are very consistent which is a good sign. However, it would also be a good idea to check the individual k-fold cross validation scores, in order to truly see how consistent each model is. Therefore, we graph out the accuracy levels across each fold below."
   ]
  },
  {
   "cell_type": "code",
   "execution_count": 30,
   "metadata": {},
   "outputs": [
    {
     "data": {
      "image/png": "[encoded data removed]",
      "text/plain": [
       "<matplotlib.figure.Figure at 0x7fa7bd152e80>"
      ]
     },
     "metadata": {},
     "output_type": "display_data"
    }
   ],
   "source": [
    "# Resetting plot size. \n",
    "plt.rcParams['figure.figsize'] = (10, 6)\n",
    "cv_x = np.arange(10) + 1\n",
    "\n",
    "# Plotting each individual cross validation run using 10-folds\n",
    "BGC_p = plt.plot(cv_x, 100*cross_val_BGC, '-', color = '#5DADE2', linewidth = 2, label = 'Bagging')\n",
    "GBC_p = plt.plot(cv_x, 100*cross_val_GBC, '-', color = '#E74C3C', linewidth = 2, label = 'Gradient Boosting')\n",
    "RFC_p = plt.plot(cv_x, 100*cross_val_RFC, '-', color = '#F4D03F', linewidth = 2, label = 'Random Forest')\n",
    "MLP_p = plt.plot(cv_x, 100*cross_val_MLP, '-', color = '#52BE80', linewidth = 2, label = 'MLP Neural Network')\n",
    "\n",
    "plt.xlabel('k-Fold Number', fontsize = 12)\n",
    "plt.ylabel('Cross Validation Accuracy (%)', fontsize = 12)\n",
    "plt.title('Individual 10-Fold Cross Validation Accuracies', fontsize = 14, fontweight = 'bold', y = 1.1)\n",
    "plt.legend(bbox_to_anchor=(0.5, 1.06), loc = 'center', ncol = 4)\n",
    "\n",
    "plt.show()"
   ]
  },
  {
   "cell_type": "markdown",
   "metadata": {},
   "source": [
    "The figure above shows the differences across each fold of the cross validation process. As discussed earlier, the bagging and random forest classifiers were consistently giving simillar results, which are shown in the graph as well. These two models, along with the neural network model, seem to have more variance in results compared to the gradient boosting results. This makes sense since, as discussed earlier, these three models have either some randomization or stochastic optimization occuring, which would result in inconsistent results.\n",
    "\n",
    "With all of this information in mind, the next step is to further tune these models to develop the final one for testing."
   ]
  },
  {
   "cell_type": "markdown",
   "metadata": {},
   "source": [
    "<br>\n",
    "## 5. Model Tuning\n",
    "##### _Improving performance._\n",
    "In this section, we'll further investigate the performance of the four classifiers by improving on each model's hyperparameters. The method of tuning each classifier will be to perform a grid search against 2 possible hyperparameters for each classifier and decide on the best classifier based on both accuracy and true positive rates.\n",
    "\n",
    "Note that running the grid search cells will take several minutes when using the data science workbench. **A 10-fold cross validation is conducted only at the end of this section.** In order to speed up the process, only a 3-fold cross validation is used, for 3 possible scenarios, per 2 hyperparameters, for the grid searching sections. **Also note** that running the cells in Section 5 are **not** required in order to continue into Section 6. This is too speed up the process of this notebook. \n",
    "\n",
    "The cell below defines the function `perform_grid_search`, which will perform a grid search with the given model and set of hyperparameters, and the function `confusion_matrix`, which will compute and display the confusion matrix as a panda head table."
   ]
  },
  {
   "cell_type": "code",
   "execution_count": 31,
   "metadata": {
    "collapsed": true
   },
   "outputs": [],
   "source": [
    "def perform_grid_search(hyper_grid, model, model_name):\n",
    "    \"\"\"\n",
    "    Takes in hyperparameter grid, model and it's name. Performs grid search\n",
    "    with 3-fold cross validation. Returns the grid search results.\n",
    "    \n",
    "    Input:\n",
    "        hyper_grid : A dictionary of hyperparameters.\n",
    "        model      : An instance of a scikit-learn's model functions.\n",
    "        model_name : String value for the model's name.\n",
    "    \n",
    "    Output:\n",
    "        grid       : A dictionary of grid search results.\n",
    "    \"\"\"\n",
    "    \n",
    "    # Performing grid search.\n",
    "    grid = GridSearchCV(model, hyper_grid, cv = 3, scoring = 'accuracy')\n",
    "    print(model_name, ': Performing Grid Search...', end = '')\n",
    "    grid.fit(x_train, y_train)\n",
    "    print(' -> COMPLETE')\n",
    "    \n",
    "    return grid\n",
    "\n",
    "def confusion_matrix(y_true, y_pred):\n",
    "    \"\"\"\n",
    "    Takes in training data and a model. Trains and performs 10-fold\n",
    "    cross validation. Returns an array of the 10 cross validation values.\n",
    "    \n",
    "    Input:\n",
    "        y_true    : M x 1 numpy array of true classes.\n",
    "        y_pred    : M x 1 numpy array of predicted classes.\n",
    "    \n",
    "    Output:\n",
    "        view_conf : Panda dataframe of the confusion matrix.\n",
    "    \"\"\"\n",
    "    \n",
    "    # Creating the confusion matrix.\n",
    "    conf = metrics.confusion_matrix(y_train, y_pred)\n",
    "\n",
    "    # Representing the confusion matrix as a panda to show the head table.\n",
    "    view_conf = pd.DataFrame(data = conf)\n",
    "    view_conf.columns = ['Predicted 0', 'Predicted 1', 'Predicted 2']\n",
    "    view_conf.index = ['Ture Value 0', 'Ture Value 1', 'Ture Value 2']\n",
    "    \n",
    "    return view_conf"
   ]
  },
  {
   "cell_type": "markdown",
   "metadata": {},
   "source": [
    "### 5.1 Tuning Bagging Classifier\n",
    "The 2 hyperparameters that will be investigated are the `n_estimators`, which are the number of base estimators for the ensemble of classifieres, and the `max_samples`, which are the number of feature samples used for training each base estimator.\n",
    "\n",
    "Below, we're defining the grid of hyperparameters and performing the grid search using the `perform_grid_search` function."
   ]
  },
  {
   "cell_type": "code",
   "execution_count": 32,
   "metadata": {},
   "outputs": [
    {
     "name": "stdout",
     "output_type": "stream",
     "text": [
      "BGC : Performing Grid Search... -> COMPLETE\n"
     ]
    }
   ],
   "source": [
    "# Setting the possible cases of the hypeyparameters.\n",
    "ne_range = np.linspace(1, 1000, num = 3).astype('int')\n",
    "mx_range = np.linspace(1, 1000, num = 3).astype('int')\n",
    "\n",
    "# Storing the possible cases into a dictionary for grid search use.\n",
    "hyper_grid = dict(n_estimators = ne_range, max_samples = mx_range)\n",
    "\n",
    "# Performing grid search on the bagging classifier.\n",
    "grid_BGC = perform_grid_search(hyper_grid, model_BGC, 'BGC')"
   ]
  },
  {
   "cell_type": "markdown",
   "metadata": {},
   "source": [
    "With possible set of hyperparameters tested agaisnt a grid search, the trends for each scenario can be seen below. It seems as if increasing `max_samples` and `n_estimators` yields better results."
   ]
  },
  {
   "cell_type": "code",
   "execution_count": 33,
   "metadata": {
    "scrolled": true
   },
   "outputs": [
    {
     "data": {
      "text/plain": [
       "[mean: 0.75480, std: 0.00006, params: {'max_samples': 1, 'n_estimators': 1},\n",
       " mean: 0.75480, std: 0.00006, params: {'max_samples': 1, 'n_estimators': 500},\n",
       " mean: 0.75480, std: 0.00006, params: {'max_samples': 1, 'n_estimators': 1000},\n",
       " mean: 0.70427, std: 0.00829, params: {'max_samples': 500, 'n_estimators': 1},\n",
       " mean: 0.79526, std: 0.00264, params: {'max_samples': 500, 'n_estimators': 500},\n",
       " mean: 0.79538, std: 0.00274, params: {'max_samples': 500, 'n_estimators': 1000},\n",
       " mean: 0.71058, std: 0.01070, params: {'max_samples': 1000, 'n_estimators': 1},\n",
       " mean: 0.79235, std: 0.00427, params: {'max_samples': 1000, 'n_estimators': 500},\n",
       " mean: 0.79362, std: 0.00421, params: {'max_samples': 1000, 'n_estimators': 1000}]"
      ]
     },
     "execution_count": 33,
     "metadata": {},
     "output_type": "execute_result"
    }
   ],
   "source": [
    "# Lists the 3-fold cross validation accuracy scores for each scenario.\n",
    "grid_BGC.grid_scores_"
   ]
  },
  {
   "cell_type": "markdown",
   "metadata": {},
   "source": [
    "The best set of hyperparameters for the bagging classifier in this case are the following:"
   ]
  },
  {
   "cell_type": "code",
   "execution_count": 34,
   "metadata": {},
   "outputs": [
    {
     "name": "stdout",
     "output_type": "stream",
     "text": [
      "BGC : Best Hyperparameters - {'max_samples': 500, 'n_estimators': 1000} ; Score -  79.53810245280701 %\n"
     ]
    }
   ],
   "source": [
    "# Printing the best set of hyperparameters and it's accuracy score.\n",
    "print('BGC : Best Hyperparameters -', grid_BGC.best_params_, '; Score - ', 100*grid_BGC.best_score_, '%')"
   ]
  },
  {
   "cell_type": "markdown",
   "metadata": {},
   "source": [
    "In order to compare with the rest of the classifiers, a confusion matrix is made below. The confusion matrix compares true and false positives agaisnt the predicted and true values. The goal when comparing all 4 classifiers would be to maximize the diagonal of the confusion matrix table below, as they are the true positives.\n",
    "\n",
    "Below we're creating and training the final model using the best hyperparameters, and creating/displaying the confusion matrix using the `confusion_matrix` function."
   ]
  },
  {
   "cell_type": "code",
   "execution_count": 35,
   "metadata": {},
   "outputs": [
    {
     "data": {
      "text/html": [
       "<div>\n",
       "<table border=\"1\" class=\"dataframe\">\n",
       "  <thead>\n",
       "    <tr style=\"text-align: right;\">\n",
       "      <th></th>\n",
       "      <th>Predicted 0</th>\n",
       "      <th>Predicted 1</th>\n",
       "      <th>Predicted 2</th>\n",
       "    </tr>\n",
       "  </thead>\n",
       "  <tbody>\n",
       "    <tr>\n",
       "      <th>Ture Value 0</th>\n",
       "      <td>1989</td>\n",
       "      <td>1997</td>\n",
       "      <td>8</td>\n",
       "    </tr>\n",
       "    <tr>\n",
       "      <th>Ture Value 1</th>\n",
       "      <td>720</td>\n",
       "      <td>17704</td>\n",
       "      <td>9</td>\n",
       "    </tr>\n",
       "    <tr>\n",
       "      <th>Ture Value 2</th>\n",
       "      <td>906</td>\n",
       "      <td>1053</td>\n",
       "      <td>35</td>\n",
       "    </tr>\n",
       "  </tbody>\n",
       "</table>\n",
       "</div>"
      ],
      "text/plain": [
       "              Predicted 0  Predicted 1  Predicted 2\n",
       "Ture Value 0         1989         1997            8\n",
       "Ture Value 1          720        17704            9\n",
       "Ture Value 2          906         1053           35"
      ]
     },
     "execution_count": 35,
     "metadata": {},
     "output_type": "execute_result"
    }
   ],
   "source": [
    "# Creating the final model and predicting a new set of classes.\n",
    "final_model_BGC = BaggingClassifier(max_samples = 1000, n_estimators = 500)\n",
    "final_model_BGC.fit(x_train, y_train)\n",
    "y_pred_BGC = final_model_BGC.predict(x_train)\n",
    "\n",
    "# Creating and displaying the confusion matrix.\n",
    "conf_BGC = confusion_matrix(y_train, y_pred_BGC)\n",
    "conf_BGC.head()"
   ]
  },
  {
   "cell_type": "markdown",
   "metadata": {},
   "source": [
    "### 5.2 Tuning Gradient Boosting Classifier\n",
    "The 2 hyperparameters that will be investigated here are the `learning_rate`, which is essentially a weight coeffiecient for training that controls the contribution of each classifier, and the `n_estimators`, which is the number of boosting stages to perform, where larger numbers usually yields better results. For gradient boosting, there is usually a trade-off between the `learning_rate` and `n_estimators`.\n",
    "\n",
    "Below, we're defining the grid of hyperparameters and performing the grid search using the `perform_grid_search` function. This will take several minutes to run when using the data science workbench."
   ]
  },
  {
   "cell_type": "code",
   "execution_count": 36,
   "metadata": {},
   "outputs": [
    {
     "name": "stdout",
     "output_type": "stream",
     "text": [
      "GBC : Performing Grid Search... -> COMPLETE\n"
     ]
    }
   ],
   "source": [
    "# Setting the possible cases of the hypeyparameters.\n",
    "lr_range = np.linspace(0.001, 1, num = 3)\n",
    "ne_range = np.linspace(100, 1000, num = 3).astype('int')\n",
    "\n",
    "# Storing the possible cases into a dictionary for grid search use.\n",
    "hyper_grid = dict(learning_rate = lr_range, n_estimators = ne_range)\n",
    "\n",
    "# Performing grid search on the gradient boosting classifier.\n",
    "grid_GBC = perform_grid_search(hyper_grid, model_GBC, 'GBC')"
   ]
  },
  {
   "cell_type": "markdown",
   "metadata": {},
   "source": [
    "With possible set of hyperparameters tested agaisnt a grid search, the trends for each scenario can be seen below. From the results it does seem that the two hyperparameters are experiencing trade-offs agaisnt each other."
   ]
  },
  {
   "cell_type": "code",
   "execution_count": 37,
   "metadata": {},
   "outputs": [
    {
     "data": {
      "text/plain": [
       "[mean: 0.75480, std: 0.00006, params: {'learning_rate': 0.001, 'n_estimators': 100},\n",
       " mean: 0.77368, std: 0.00128, params: {'learning_rate': 0.001, 'n_estimators': 550},\n",
       " mean: 0.78416, std: 0.00333, params: {'learning_rate': 0.001, 'n_estimators': 1000},\n",
       " mean: 0.79206, std: 0.00174, params: {'learning_rate': 0.50049999999999994, 'n_estimators': 100},\n",
       " mean: 0.78383, std: 0.00360, params: {'learning_rate': 0.50049999999999994, 'n_estimators': 550},\n",
       " mean: 0.77921, std: 0.00326, params: {'learning_rate': 0.50049999999999994, 'n_estimators': 1000},\n",
       " mean: 0.78879, std: 0.00043, params: {'learning_rate': 1.0, 'n_estimators': 100},\n",
       " mean: 0.78129, std: 0.00537, params: {'learning_rate': 1.0, 'n_estimators': 550},\n",
       " mean: 0.77970, std: 0.00711, params: {'learning_rate': 1.0, 'n_estimators': 1000}]"
      ]
     },
     "execution_count": 37,
     "metadata": {},
     "output_type": "execute_result"
    }
   ],
   "source": [
    "# Lists the 3-fold cross validation accuracy scores for each scenario.\n",
    "grid_GBC.grid_scores_"
   ]
  },
  {
   "cell_type": "markdown",
   "metadata": {},
   "source": [
    "The best set of hyperparameters for the gradient boosting classifier in this case are the following:"
   ]
  },
  {
   "cell_type": "code",
   "execution_count": 38,
   "metadata": {},
   "outputs": [
    {
     "name": "stdout",
     "output_type": "stream",
     "text": [
      "GBC : Best Hyperparameters - {'learning_rate': 0.50049999999999994, 'n_estimators': 100} ; Score -  79.2064207034929 %\n"
     ]
    }
   ],
   "source": [
    "# Printing the best set of hyperparameters and it's accuracy score.\n",
    "print('GBC : Best Hyperparameters -', grid_GBC.best_params_, '; Score - ', 100*grid_GBC.best_score_, '%')"
   ]
  },
  {
   "cell_type": "markdown",
   "metadata": {},
   "source": [
    "Below we're creating and training the final model using the best hyperparameters, and creating/displaying the confusion matrix using the `confusion_matrix` function."
   ]
  },
  {
   "cell_type": "code",
   "execution_count": 39,
   "metadata": {
    "scrolled": true
   },
   "outputs": [
    {
     "data": {
      "text/html": [
       "<div>\n",
       "<table border=\"1\" class=\"dataframe\">\n",
       "  <thead>\n",
       "    <tr style=\"text-align: right;\">\n",
       "      <th></th>\n",
       "      <th>Predicted 0</th>\n",
       "      <th>Predicted 1</th>\n",
       "      <th>Predicted 2</th>\n",
       "    </tr>\n",
       "  </thead>\n",
       "  <tbody>\n",
       "    <tr>\n",
       "      <th>Ture Value 0</th>\n",
       "      <td>2095</td>\n",
       "      <td>1870</td>\n",
       "      <td>29</td>\n",
       "    </tr>\n",
       "    <tr>\n",
       "      <th>Ture Value 1</th>\n",
       "      <td>847</td>\n",
       "      <td>17572</td>\n",
       "      <td>14</td>\n",
       "    </tr>\n",
       "    <tr>\n",
       "      <th>Ture Value 2</th>\n",
       "      <td>947</td>\n",
       "      <td>939</td>\n",
       "      <td>108</td>\n",
       "    </tr>\n",
       "  </tbody>\n",
       "</table>\n",
       "</div>"
      ],
      "text/plain": [
       "              Predicted 0  Predicted 1  Predicted 2\n",
       "Ture Value 0         2095         1870           29\n",
       "Ture Value 1          847        17572           14\n",
       "Ture Value 2          947          939          108"
      ]
     },
     "execution_count": 39,
     "metadata": {},
     "output_type": "execute_result"
    }
   ],
   "source": [
    "# Creating the final model and predicting a new set of classes.\n",
    "final_model_GBC = GradientBoostingClassifier(n_estimators = 100, learning_rate = 0.5)\n",
    "final_model_GBC.fit(x_train, y_train)\n",
    "y_pred_GBC = final_model_GBC.predict(x_train)\n",
    "\n",
    "# Creating and displaying the confusion matrix.\n",
    "conf_GBC = confusion_matrix(y_train, y_pred_GBC)\n",
    "conf_GBC.head()"
   ]
  },
  {
   "cell_type": "markdown",
   "metadata": {},
   "source": [
    "### 5.3 Tuning Random Forest Classifier"
   ]
  },
  {
   "cell_type": "markdown",
   "metadata": {},
   "source": [
    "Only 1 main hyperparameter will be investigated here, which is the `n_estimators`, which is the number of trees in the forest in this context.\n",
    "\n",
    "Below, we're defining the grid of hyperparameters and performing the grid search using the `perform_grid_search` function."
   ]
  },
  {
   "cell_type": "code",
   "execution_count": 40,
   "metadata": {},
   "outputs": [
    {
     "name": "stdout",
     "output_type": "stream",
     "text": [
      "RFC : Performing Grid Search... -> COMPLETE\n"
     ]
    }
   ],
   "source": [
    "# Setting the possible cases of the hypeyparameters.\n",
    "ne_range = np.linspace(10, 5000, num = 3).astype('int')\n",
    "\n",
    "# Storing the possible cases into a dictionary for grid search use.\n",
    "hyper_grid = dict(n_estimators = ne_range)\n",
    "\n",
    "# Performing grid search on the random forest classifier.\n",
    "grid_RFC = perform_grid_search(hyper_grid, model_RFC, 'RFC')"
   ]
  },
  {
   "cell_type": "markdown",
   "metadata": {},
   "source": [
    "With possible set of hyperparameters tested agaisnt grid search, the trends for each scenario can be seen below. Although it seems that increasing the `n_estimators` hyperparameters, yields to slightly better results, the accuracy drops off beyond 5000, but was capped off in the demontration for lower run time."
   ]
  },
  {
   "cell_type": "code",
   "execution_count": 41,
   "metadata": {
    "scrolled": true
   },
   "outputs": [
    {
     "data": {
      "text/plain": [
       "[mean: 0.76143, std: 0.00478, params: {'n_estimators': 10},\n",
       " mean: 0.76889, std: 0.00418, params: {'n_estimators': 2505},\n",
       " mean: 0.76950, std: 0.00537, params: {'n_estimators': 5000}]"
      ]
     },
     "execution_count": 41,
     "metadata": {},
     "output_type": "execute_result"
    }
   ],
   "source": [
    "# Lists the 3-fold cross validation accuracy scores for each scenario.\n",
    "grid_RFC.grid_scores_"
   ]
  },
  {
   "cell_type": "markdown",
   "metadata": {},
   "source": [
    "The best set of hyperparameters for the random forest classifier in this case are the following:"
   ]
  },
  {
   "cell_type": "code",
   "execution_count": 42,
   "metadata": {},
   "outputs": [
    {
     "name": "stdout",
     "output_type": "stream",
     "text": [
      "RFC : Best Hyperparameters - {'n_estimators': 5000} ; Score -  76.95016584087466 %\n"
     ]
    }
   ],
   "source": [
    "# Printing the best set of hyperparameters and it's accuracy score.\n",
    "print('RFC : Best Hyperparameters -', grid_RFC.best_params_, '; Score - ', 100*grid_RFC.best_score_, '%')"
   ]
  },
  {
   "cell_type": "markdown",
   "metadata": {},
   "source": [
    "Below we're creating and training the final model using the best hyperparameters, and creating/displaying the confusion matrix using the `confusion_matrix` function.\n",
    "\n",
    "Note that a different `n_estimators` is used compared to the optimal one above. This is simply because the accuracy improvement wasn't substantial enough to trade-off run time. Therefore, 2000 is being used as it seems to decrease the standard deviation across the cross validations and is better than the default 10."
   ]
  },
  {
   "cell_type": "code",
   "execution_count": 43,
   "metadata": {},
   "outputs": [
    {
     "data": {
      "text/html": [
       "<div>\n",
       "<table border=\"1\" class=\"dataframe\">\n",
       "  <thead>\n",
       "    <tr style=\"text-align: right;\">\n",
       "      <th></th>\n",
       "      <th>Predicted 0</th>\n",
       "      <th>Predicted 1</th>\n",
       "      <th>Predicted 2</th>\n",
       "    </tr>\n",
       "  </thead>\n",
       "  <tbody>\n",
       "    <tr>\n",
       "      <th>Ture Value 0</th>\n",
       "      <td>2703</td>\n",
       "      <td>1169</td>\n",
       "      <td>122</td>\n",
       "    </tr>\n",
       "    <tr>\n",
       "      <th>Ture Value 1</th>\n",
       "      <td>502</td>\n",
       "      <td>17859</td>\n",
       "      <td>72</td>\n",
       "    </tr>\n",
       "    <tr>\n",
       "      <th>Ture Value 2</th>\n",
       "      <td>536</td>\n",
       "      <td>611</td>\n",
       "      <td>847</td>\n",
       "    </tr>\n",
       "  </tbody>\n",
       "</table>\n",
       "</div>"
      ],
      "text/plain": [
       "              Predicted 0  Predicted 1  Predicted 2\n",
       "Ture Value 0         2703         1169          122\n",
       "Ture Value 1          502        17859           72\n",
       "Ture Value 2          536          611          847"
      ]
     },
     "execution_count": 43,
     "metadata": {},
     "output_type": "execute_result"
    }
   ],
   "source": [
    "# Creating the final model and predicting a new set of classes.\n",
    "final_model_RFC = RandomForestClassifier(n_estimators = 2000)\n",
    "final_model_RFC.fit(x_train, y_train)\n",
    "y_pred_RFC = final_model_RFC.predict(x_train)\n",
    "\n",
    "# Creating and displaying the confusion matrix.\n",
    "conf_RFC = confusion_matrix(y_train, y_pred_RFC)\n",
    "conf_RFC.head()"
   ]
  },
  {
   "cell_type": "markdown",
   "metadata": {},
   "source": [
    "### 5.4 Tuning Neural Network Classifier\n",
    "The 2 hyperparameters that will be investigated here are the `learning_rate`, and the `max_iter`, which is the number of iterations for training. Here, the `learning_rate` is given by 3 settings, which include: constant, invscaling, and adaptive. The 3 setting essentially control whether the `learning_rate` value is constant throughout training, or grows/decays according to the situation at hand. A non-constant `learning_rate` can help with the vanishing gradient problem when optimizing the loss function. It's also typically better to have a higher `max_iter` value for training. However, too much training can cause overfitting. \n",
    "\n",
    "Below, we're defining the grid of hyperparameters and performing the grid search using the `perform_grid_search` function."
   ]
  },
  {
   "cell_type": "code",
   "execution_count": 44,
   "metadata": {},
   "outputs": [
    {
     "name": "stdout",
     "output_type": "stream",
     "text": [
      "MLP : Performing Grid Search... -> COMPLETE\n"
     ]
    }
   ],
   "source": [
    "# Setting the possible cases of the hypeyparameters.\n",
    "lr_type = ['constant', 'invscaling', 'adaptive']\n",
    "it_range = np.linspace(200, 1000, num = 3).astype('int')\n",
    "\n",
    "# Storing the possible cases into a dictionary for grid search use.\n",
    "hyper_grid = dict(learning_rate = lr_type, max_iter = it_range)\n",
    "\n",
    "# Performing grid search on the neural network classifier.\n",
    "grid_MLP = perform_grid_search(hyper_grid, model_MLP, 'MLP')"
   ]
  },
  {
   "cell_type": "markdown",
   "metadata": {},
   "source": [
    "With possible set of hyperparameters tested agaisnt grid search, the trends for each scenario can be seen below."
   ]
  },
  {
   "cell_type": "code",
   "execution_count": 45,
   "metadata": {},
   "outputs": [
    {
     "data": {
      "text/plain": [
       "[mean: 0.77528, std: 0.00825, params: {'max_iter': 200, 'learning_rate': 'constant'},\n",
       " mean: 0.78924, std: 0.00566, params: {'max_iter': 600, 'learning_rate': 'constant'},\n",
       " mean: 0.79239, std: 0.00388, params: {'max_iter': 1000, 'learning_rate': 'constant'},\n",
       " mean: 0.78244, std: 0.01440, params: {'max_iter': 200, 'learning_rate': 'invscaling'},\n",
       " mean: 0.78793, std: 0.00139, params: {'max_iter': 600, 'learning_rate': 'invscaling'},\n",
       " mean: 0.78793, std: 0.00619, params: {'max_iter': 1000, 'learning_rate': 'invscaling'},\n",
       " mean: 0.78764, std: 0.00318, params: {'max_iter': 200, 'learning_rate': 'adaptive'},\n",
       " mean: 0.78867, std: 0.00214, params: {'max_iter': 600, 'learning_rate': 'adaptive'},\n",
       " mean: 0.79354, std: 0.00250, params: {'max_iter': 1000, 'learning_rate': 'adaptive'}]"
      ]
     },
     "execution_count": 45,
     "metadata": {},
     "output_type": "execute_result"
    }
   ],
   "source": [
    "# Lists the 3-fold cross validation accuracy scores for each scenario.\n",
    "grid_MLP.grid_scores_"
   ]
  },
  {
   "cell_type": "markdown",
   "metadata": {},
   "source": [
    "The best set of hyperparameters for the neural network classifier in this case are presented below. Note that due to the stochastic nature of this model, the best set of hyperparameters will vary slightly run to run."
   ]
  },
  {
   "cell_type": "code",
   "execution_count": 46,
   "metadata": {},
   "outputs": [
    {
     "name": "stdout",
     "output_type": "stream",
     "text": [
      "MLP : Best Hyperparameters - {'max_iter': 1000, 'learning_rate': 'adaptive'} ; Score -  79.35383481429918 %\n"
     ]
    }
   ],
   "source": [
    "# Printing the best set of hyperparameters and it's accuracy score.\n",
    "print('MLP : Best Hyperparameters -', grid_MLP.best_params_, '; Score - ', 100*grid_MLP.best_score_, '%')"
   ]
  },
  {
   "cell_type": "markdown",
   "metadata": {},
   "source": [
    "Below we're creating and training the final model using the best hyperparameters, and creating/displaying the confusion matrix using the `confusion_matrix` function."
   ]
  },
  {
   "cell_type": "code",
   "execution_count": 47,
   "metadata": {},
   "outputs": [
    {
     "data": {
      "text/html": [
       "<div>\n",
       "<table border=\"1\" class=\"dataframe\">\n",
       "  <thead>\n",
       "    <tr style=\"text-align: right;\">\n",
       "      <th></th>\n",
       "      <th>Predicted 0</th>\n",
       "      <th>Predicted 1</th>\n",
       "      <th>Predicted 2</th>\n",
       "    </tr>\n",
       "  </thead>\n",
       "  <tbody>\n",
       "    <tr>\n",
       "      <th>Ture Value 0</th>\n",
       "      <td>2094</td>\n",
       "      <td>1897</td>\n",
       "      <td>3</td>\n",
       "    </tr>\n",
       "    <tr>\n",
       "      <th>Ture Value 1</th>\n",
       "      <td>1222</td>\n",
       "      <td>17209</td>\n",
       "      <td>2</td>\n",
       "    </tr>\n",
       "    <tr>\n",
       "      <th>Ture Value 2</th>\n",
       "      <td>1050</td>\n",
       "      <td>943</td>\n",
       "      <td>1</td>\n",
       "    </tr>\n",
       "  </tbody>\n",
       "</table>\n",
       "</div>"
      ],
      "text/plain": [
       "              Predicted 0  Predicted 1  Predicted 2\n",
       "Ture Value 0         2094         1897            3\n",
       "Ture Value 1         1222        17209            2\n",
       "Ture Value 2         1050          943            1"
      ]
     },
     "execution_count": 47,
     "metadata": {},
     "output_type": "execute_result"
    }
   ],
   "source": [
    "# Creating the final model and predicting a new set of classes.\n",
    "final_model_MLP = MLPClassifier(max_iter = 1000, learning_rate = 'adaptive')\n",
    "final_model_MLP.fit(x_train, y_train)\n",
    "y_pred_MLP = final_model_MLP.predict(x_train)\n",
    "\n",
    "# Creating and displaying the confusion matrix.\n",
    "conf_MLP = confusion_matrix(y_train, y_pred_MLP)\n",
    "conf_MLP.head()"
   ]
  },
  {
   "cell_type": "markdown",
   "metadata": {},
   "source": [
    "### 5.5 Final Model Selection\n",
    "From the confusion matrix tables in the Section 5.1 - 5.4, many different realtionships can be seen. As mentioned earlier, the goal is to maximize the diagonal of the table, since these are the true positives. The model with the highest accuracy score is now the neural network, with gradient boosting classifier at a very close second. However, the gradient boosting model's confusion table compared to the neural network and random forest tabeles shows some strange differences. In general, the random forest and neural network models both seemed to classify more 0 and 1 classes than the gradient boosting model. However, the gradient boosting model has a balanced set of true positives across all the classes compared to the rest of the models. Furthermore, the gradient boosting and neural network model's, although have a very simillar accuracy, their confusion table's diagonals are more balanced compared to very unbalanced distributions in true positives between classes 0 and 2, for the gradient boosting and neural network respectively.\n",
    "\n",
    "Therefore, the final model chosen is the gradient boosting classifier, since it has more balanced true positive rates across all classes, and has a simillar accuracy as the best performer, the neural net. This makes sense, as the combination of weak learners have become an expert on their on subset. The final gradient boosting model will have the hyperparameters of `n_estimators` = 100, and `learning_rate` = 0.5.\n",
    "\n",
    "Below we're performing a final 10-fold cross validation to make sure it still has an accuracy score above 70%."
   ]
  },
  {
   "cell_type": "code",
   "execution_count": 48,
   "metadata": {},
   "outputs": [
    {
     "name": "stdout",
     "output_type": "stream",
     "text": [
      "GBC : Training -> 10-Fold Cross Validating -> Validation Average: 79.4439733842 %\n"
     ]
    }
   ],
   "source": [
    "# Performing a final 10-fold cross validation on the final gradient boosting classifier.\n",
    "final_cross_val_GBC = train_crossval_model(x_train, y_train, final_model_GBC, 'GBC')"
   ]
  },
  {
   "cell_type": "markdown",
   "metadata": {},
   "source": [
    "<br>\n",
    "## 6. Testing and Discussion\n",
    "##### _Testing the tuned model._\n",
    "With the final model created, the test set can finally be put to use. The cell below applys the already optimal gradient boosting classifier to produce a new set of classes using the test set. The accuracy score is also checked, using the new predicted set, and the original set of classes. "
   ]
  },
  {
   "cell_type": "code",
   "execution_count": 49,
   "metadata": {},
   "outputs": [
    {
     "name": "stdout",
     "output_type": "stream",
     "text": [
      "Test Set Accuracy: 78.6422078454 %\n"
     ]
    }
   ],
   "source": [
    "# Transforming the data into numpy arrays.\n",
    "x_test = np.asarray(final_test_x).astype('int')\n",
    "y_test = np.asarray(final_test_y).astype('int')\n",
    "\n",
    "try:\n",
    "    # Developping the new predicted set.\n",
    "    predicted_set = final_model_GBC.predict(x_test)\n",
    "except:\n",
    "    # If the grid search cells are not run in Section 5, model is created.\n",
    "    final_model_GBC = GradientBoostingClassifier(n_estimators = 100, learning_rate = 0.5)\n",
    "    final_model_GBC.fit(x_train, y_train)\n",
    "    predicted_set = final_model_GBC.predict(x_test)\n",
    "\n",
    "# Printing the predicted test set class accuracy. \n",
    "print(\"Test Set Accuracy:\", (100*metrics.accuracy_score(y_test, predicted_set)), \"%\")"
   ]
  },
  {
   "cell_type": "markdown",
   "metadata": {},
   "source": [
    "Thus, the **final test set accuracy is around 78%.**\n",
    "\n",
    "In general, the test set applied on the optimal gradient boosting classifier, tends to perform very close to the training cross validation averages. In almost every run, it's within 1%. This suggests that the trained model isn't overfit or underfit, since the accuracy scores are relatively consistent.\n",
    "\n",
    "Methods to better performance may include better feature selection or engineering. Since some of the features were modified here, the performance will vary against the raw dataset alone. However, further investigation was conducted on the original dataset and the finalized one, and the performace was consistently better with the final datasets. Further feature engineering experimentation can be looked into for better performance.\n",
    "\n",
    "An additional method that could be further investigated is the use of equal class observations. The idea behind it that the equal amount of classes allows a model to train on an equal number of each class, thus avoiding overshadowing issues with majority classes. This was tested in the earlier stages of the assignment, however, was abondoned due to poor results. The cell below shows the performance of a smaller, balanced, class set where the resutls were consistently in the 50% - 60% range.  "
   ]
  },
  {
   "cell_type": "code",
   "execution_count": 50,
   "metadata": {},
   "outputs": [
    {
     "name": "stdout",
     "output_type": "stream",
     "text": [
      "GBC : Training -> 10-Fold Cross Validating -> Validation Average: 53.6257956449 %\n"
     ]
    }
   ],
   "source": [
    "# Finding smallest label set.\n",
    "min_i = np.amin([len(x_train[y_train == 0, 0]), len(x_train[y_train == 1, 0]), len(x_train[y_train == 2, 0])])\n",
    "\n",
    "# Class 0 small set.\n",
    "x_small_class_0 = np.asarray(x_train[y_train == 0, :])[0:min_i, :]\n",
    "y_small_class_0 = np.asarray(y_train[y_train == 0])[0:min_i]\n",
    "\n",
    "# Class 1 small set.\n",
    "x_small_class_1 = np.asarray(x_train[y_train == 1, :])[0:min_i, :]\n",
    "y_small_class_1 = np.asarray(y_train[y_train == 1])[0:min_i]\n",
    "\n",
    "# Class 2 small set.\n",
    "x_small_class_2 = np.asarray(x_train[y_train == 2, :])[0:min_i, :]\n",
    "y_small_class_2 = np.asarray(y_train[y_train == 2])[0:min_i]\n",
    "\n",
    "# Full small set.\n",
    "x_train_small = np.concatenate((x_small_class_0, x_small_class_1, x_small_class_2), axis=0)\n",
    "y_train_small = np.concatenate((y_small_class_0, y_small_class_1, y_small_class_2), axis=0)\n",
    "\n",
    "# Applying cross validation to small set.\n",
    "smaller_model_GBC = GradientBoostingClassifier(n_estimators = 100, learning_rate = 0.5)\n",
    "cross_val_small = train_crossval_model(x_train_small, y_train_small, smaller_model_GBC, 'GBC')"
   ]
  }
 ],
 "metadata": {
  "kernelspec": {
   "display_name": "Python 2",
   "language": "python",
   "name": "python2"
  },
  "language_info": {
   "codemirror_mode": {
    "name": "ipython",
    "version": 2
   },
   "file_extension": ".py",
   "mimetype": "text/x-python",
   "name": "python",
   "nbconvert_exporter": "python",
   "pygments_lexer": "ipython2",
   "version": "2.7.12"
  },
  "widgets": {
   "state": {},
   "version": "1.1.2"
  }
 },
 "nbformat": 4,
 "nbformat_minor": 1
}
